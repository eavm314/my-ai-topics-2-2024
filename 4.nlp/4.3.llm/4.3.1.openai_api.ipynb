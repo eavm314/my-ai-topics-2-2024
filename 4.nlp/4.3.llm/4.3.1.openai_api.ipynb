{
 "cells": [
  {
   "cell_type": "code",
   "execution_count": 1,
   "metadata": {},
   "outputs": [
    {
     "data": {
      "text/plain": [
       "True"
      ]
     },
     "execution_count": 1,
     "metadata": {},
     "output_type": "execute_result"
    }
   ],
   "source": [
    "from dotenv import load_dotenv\n",
    "import os\n",
    "# cargar .env \n",
    "load_dotenv()"
   ]
  },
  {
   "cell_type": "code",
   "execution_count": 2,
   "metadata": {},
   "outputs": [],
   "source": [
    "from openai import OpenAI\n",
    "client = OpenAI()"
   ]
  },
  {
   "cell_type": "code",
   "execution_count": 14,
   "metadata": {},
   "outputs": [],
   "source": [
    "## consulta de completado de texto\n",
    "completion = client.chat.completions.create(\n",
    "    model=\"gpt-4o-mini\",\n",
    "    messages=[\n",
    "        {\n",
    "            \"role\": \"system\",\n",
    "            \"content\": \"Usted es un profesor de ciencias en una universidad prestigiosa.\"\n",
    "        },\n",
    "        {\n",
    "            \"role\": \"user\",\n",
    "            \"content\": \"\"\"\n",
    "            Este es un ejemplo de explicacion que me gusta:\n",
    "            'hola amiguitos, les voy a explicar con chubis que es \n",
    "            la fisica... etc'\n",
    "\n",
    "            Explique en palabras simples (similares a las usadas en el ejemplo anterior) las leyes de la termodinamica.\n",
    "            \"\"\"\n",
    "        }\n",
    "    ],\n",
    "    temperature=1.4\n",
    ")"
   ]
  },
  {
   "cell_type": "code",
   "execution_count": 15,
   "metadata": {},
   "outputs": [
    {
     "name": "stdout",
     "output_type": "stream",
     "text": [
      "ChatCompletionMessage(content='¡Hola amiguitos! Hoy les voy a contar sobre algo super interesante llamado la termodinámica, que es la parte de la ciencia que estudia el calor y la energía. ¡Prepárense para explorar!\\n\\nPrimera Ley de la Termodinámica: Imagina que eres un mago, y cuando comes un helado, la energía de ese helado entra a tu cuerpo. Esta ley dice que la energía no se crea ni se destruye, solo se transforma. Así que todo el calor y la energía que tenemos provienen de algún lugar, y puede cambiar de formas, pero nunca desaparece. Es como si la energía estuviera haciendo malabares, cambiando para pasar de unas cosas a otras. \\n\\nSegunda Ley de la Termodinámica: Esta es como la regla de \"todo se desarma\" muy importante. Piensa en una habitación hecha un desastre. Con el tiempo, todo tiende a desorganizarse. Esta ley dice que siempre que haya energía involucrada, van a pasar cosas desordenadas. Por eso, un café caliente se enfría, y eso pasa siempre sin que lo queramos. ¡La naturaleza ama el desorden!\\n\\nTercera Ley de la Termodinámica: Imagina que hay un lugar superfrío, como el espacio exterior. La tercera ley dice que no se puede llegar a un lugar que se llama \"cero absoluto\", que es tan frío que todos los movimientos de las partículas se detienen. Es como si dijéramos que no podemos ponerle más frío a algo, ¡puede que llegue a ser igualmente frío, pero nunca al cero absoluto!\\n\\nAsí que ya ven, amiguitos, las leyes de la termodinámica son como unas reglas magicas que nos ayudan a entender cómo funciona la energía y el calor en el mundo. Ahora que lo saben, ¡puedes impressionar a tus amigos con crear energía mágica donde quieras! ', refusal=None, role='assistant', function_call=None, tool_calls=None)\n"
     ]
    }
   ],
   "source": [
    "print(completion.choices[0].message)"
   ]
  },
  {
   "cell_type": "code",
   "execution_count": null,
   "metadata": {},
   "outputs": [],
   "source": []
  }
 ],
 "metadata": {
  "kernelspec": {
   "display_name": ".venv",
   "language": "python",
   "name": "python3"
  },
  "language_info": {
   "codemirror_mode": {
    "name": "ipython",
    "version": 3
   },
   "file_extension": ".py",
   "mimetype": "text/x-python",
   "name": "python",
   "nbconvert_exporter": "python",
   "pygments_lexer": "ipython3",
   "version": "3.11.9"
  }
 },
 "nbformat": 4,
 "nbformat_minor": 2
}
