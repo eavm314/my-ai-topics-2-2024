{
 "cells": [
  {
   "cell_type": "code",
   "execution_count": 3,
   "metadata": {},
   "outputs": [],
   "source": [
    "import spacy"
   ]
  },
  {
   "cell_type": "code",
   "execution_count": 6,
   "metadata": {},
   "outputs": [
    {
     "name": "stdout",
     "output_type": "stream",
     "text": [
      "Collecting es-core-news-md==3.8.0\n",
      "  Downloading https://github.com/explosion/spacy-models/releases/download/es_core_news_md-3.8.0/es_core_news_md-3.8.0-py3-none-any.whl (42.3 MB)\n",
      "     ---------------------------------------- 0.0/42.3 MB ? eta -:--:--\n",
      "     ---------------------------------------- 0.2/42.3 MB 3.9 MB/s eta 0:00:11\n",
      "      --------------------------------------- 0.8/42.3 MB 7.1 MB/s eta 0:00:06\n",
      "     - -------------------------------------- 1.6/42.3 MB 10.3 MB/s eta 0:00:04\n",
      "     -- ------------------------------------- 2.4/42.3 MB 11.6 MB/s eta 0:00:04\n",
      "     --- ------------------------------------ 3.2/42.3 MB 11.9 MB/s eta 0:00:04\n",
      "     --- ------------------------------------ 3.9/42.3 MB 12.5 MB/s eta 0:00:04\n",
      "     ---- ----------------------------------- 4.6/42.3 MB 13.4 MB/s eta 0:00:03\n",
      "     ----- ---------------------------------- 5.4/42.3 MB 13.2 MB/s eta 0:00:03\n",
      "     ----- ---------------------------------- 6.2/42.3 MB 13.6 MB/s eta 0:00:03\n",
      "     ------ --------------------------------- 6.8/42.3 MB 13.1 MB/s eta 0:00:03\n",
      "     ------- -------------------------------- 7.5/42.3 MB 13.7 MB/s eta 0:00:03\n",
      "     ------- -------------------------------- 8.4/42.3 MB 13.7 MB/s eta 0:00:03\n",
      "     -------- ------------------------------- 9.1/42.3 MB 13.8 MB/s eta 0:00:03\n",
      "     --------- ------------------------------ 9.8/42.3 MB 14.0 MB/s eta 0:00:03\n",
      "     ---------- ---------------------------- 10.9/42.3 MB 14.9 MB/s eta 0:00:03\n",
      "     ---------- ---------------------------- 11.5/42.3 MB 15.2 MB/s eta 0:00:03\n",
      "     ----------- --------------------------- 12.1/42.3 MB 14.9 MB/s eta 0:00:03\n",
      "     ----------- --------------------------- 12.9/42.3 MB 14.9 MB/s eta 0:00:02\n",
      "     ------------ -------------------------- 13.9/42.3 MB 14.9 MB/s eta 0:00:02\n",
      "     ------------- ------------------------- 14.7/42.3 MB 14.6 MB/s eta 0:00:02\n",
      "     -------------- ------------------------ 15.6/42.3 MB 14.6 MB/s eta 0:00:02\n",
      "     --------------- ----------------------- 16.4/42.3 MB 14.5 MB/s eta 0:00:02\n",
      "     --------------- ----------------------- 17.2/42.3 MB 14.9 MB/s eta 0:00:02\n",
      "     ---------------- ---------------------- 17.9/42.3 MB 15.2 MB/s eta 0:00:02\n",
      "     ----------------- --------------------- 18.7/42.3 MB 15.2 MB/s eta 0:00:02\n",
      "     ----------------- --------------------- 19.3/42.3 MB 14.9 MB/s eta 0:00:02\n",
      "     ------------------ -------------------- 20.0/42.3 MB 14.5 MB/s eta 0:00:02\n",
      "     ------------------- ------------------- 20.7/42.3 MB 14.9 MB/s eta 0:00:02\n",
      "     ------------------- ------------------- 21.4/42.3 MB 14.6 MB/s eta 0:00:02\n",
      "     -------------------- ------------------ 22.2/42.3 MB 14.9 MB/s eta 0:00:02\n",
      "     --------------------- ----------------- 22.9/42.3 MB 14.9 MB/s eta 0:00:02\n",
      "     --------------------- ----------------- 23.7/42.3 MB 14.5 MB/s eta 0:00:02\n",
      "     ---------------------- ---------------- 24.4/42.3 MB 14.9 MB/s eta 0:00:02\n",
      "     ----------------------- --------------- 25.1/42.3 MB 14.6 MB/s eta 0:00:02\n",
      "     ----------------------- --------------- 25.9/42.3 MB 14.9 MB/s eta 0:00:02\n",
      "     ------------------------ -------------- 26.5/42.3 MB 13.9 MB/s eta 0:00:02\n",
      "     ------------------------- ------------- 27.3/42.3 MB 13.9 MB/s eta 0:00:02\n",
      "     ------------------------- ------------- 28.2/42.3 MB 14.2 MB/s eta 0:00:01\n",
      "     -------------------------- ------------ 28.9/42.3 MB 13.9 MB/s eta 0:00:01\n",
      "     --------------------------- ----------- 29.6/42.3 MB 13.9 MB/s eta 0:00:01\n",
      "     --------------------------- ----------- 30.3/42.3 MB 13.9 MB/s eta 0:00:01\n",
      "     ---------------------------- ---------- 30.9/42.3 MB 13.9 MB/s eta 0:00:01\n",
      "     ----------------------------- --------- 31.6/42.3 MB 13.9 MB/s eta 0:00:01\n",
      "     ----------------------------- --------- 32.5/42.3 MB 14.2 MB/s eta 0:00:01\n",
      "     ------------------------------ -------- 33.3/42.3 MB 14.2 MB/s eta 0:00:01\n",
      "     ------------------------------- ------- 33.9/42.3 MB 14.2 MB/s eta 0:00:01\n",
      "     ------------------------------- ------- 34.5/42.3 MB 13.9 MB/s eta 0:00:01\n",
      "     -------------------------------- ------ 35.2/42.3 MB 14.2 MB/s eta 0:00:01\n",
      "     --------------------------------- ----- 36.2/42.3 MB 14.9 MB/s eta 0:00:01\n",
      "     ---------------------------------- ---- 37.1/42.3 MB 14.9 MB/s eta 0:00:01\n",
      "     ----------------------------------- --- 38.0/42.3 MB 14.9 MB/s eta 0:00:01\n",
      "     ------------------------------------ -- 39.0/42.3 MB 14.9 MB/s eta 0:00:01\n",
      "     ------------------------------------ -- 39.9/42.3 MB 15.6 MB/s eta 0:00:01\n",
      "     ------------------------------------- - 40.6/42.3 MB 15.6 MB/s eta 0:00:01\n",
      "     --------------------------------------  41.4/42.3 MB 15.2 MB/s eta 0:00:01\n",
      "     --------------------------------------  42.2/42.3 MB 15.6 MB/s eta 0:00:01\n",
      "     --------------------------------------  42.3/42.3 MB 15.2 MB/s eta 0:00:01\n",
      "     --------------------------------------  42.3/42.3 MB 15.2 MB/s eta 0:00:01\n",
      "     --------------------------------------  42.3/42.3 MB 15.2 MB/s eta 0:00:01\n",
      "     --------------------------------------  42.3/42.3 MB 15.2 MB/s eta 0:00:01\n",
      "     --------------------------------------  42.3/42.3 MB 15.2 MB/s eta 0:00:01\n",
      "     --------------------------------------  42.3/42.3 MB 15.2 MB/s eta 0:00:01\n",
      "     --------------------------------------- 42.3/42.3 MB 10.2 MB/s eta 0:00:00\n",
      "Installing collected packages: es-core-news-md\n",
      "Successfully installed es-core-news-md-3.8.0\n",
      "\u001b[38;5;2m✔ Download and installation successful\u001b[0m\n",
      "You can now load the package via spacy.load('es_core_news_md')\n"
     ]
    },
    {
     "name": "stderr",
     "output_type": "stream",
     "text": [
      "\n",
      "[notice] A new release of pip is available: 24.0 -> 24.2\n",
      "[notice] To update, run: python.exe -m pip install --upgrade pip\n"
     ]
    }
   ],
   "source": [
    "!spacy download es_core_news_md"
   ]
  },
  {
   "cell_type": "code",
   "execution_count": 7,
   "metadata": {},
   "outputs": [],
   "source": [
    "nlp = spacy.load(\"es_core_news_md\")"
   ]
  },
  {
   "cell_type": "code",
   "execution_count": 8,
   "metadata": {},
   "outputs": [],
   "source": [
    "text = \"\"\"Los incendios que se reactivaron con fuerza las últimas semanas, en especial en el norte de La Paz y Beni, son calificados como un “intento de sabotear” al Gobierno de Luis Arce. Por tal motivo, se envió policías de Inteligencia al norte de La Paz y Beni para identificar, aprehender y procesar a los supuestos saboteadores.\n",
    "\n",
    "“Se ha activado (un) grupo de inteligencia de la Policía que se va a desplazar, particularmente en el municipio de Rurrenabaque (Beni) y San Buenaventura (La Paz), porque sospechamos, y existen evidencias que nos han enviado de llantas, existen evidencias que allá ya han detenido personas que están dedicándose a la tarea maliciosa, a la tarea malintencionada de provocar estos incendios”, dijo el ministro de Defensa Edmundo Novillo.\n",
    "\n",
    "La autoridad pidió ayuda a la población para identificar a estos “malos ciudadanos”, que según la perspectiva del Ejecutivo, actúan con “intereses oscuros, como pasó anteriormente. No vamos a permitir, de ninguna manera, que gente y personas que están provocando estos incendios queden impunes, sino vamos a ser muy drásticos con todos ellos. Por eso la Policía está desplazando Inteligencia al lugar”.\n",
    "\n",
    "\n",
    "En esa línea, el vicepresidente, David Choquehuanca, exigió que se investigue y castigue a los que buscan sabotear la gestión de Gobierno.\n",
    "\n",
    "“Exigimos a las autoridades competentes celeridad en la investigación y un castigo ejemplar para aquellos que atentan contra la vida y la naturaleza, provocando incendios en un intento de sabotear a nuestro Gobierno”, se lee en las cuentas de redes sociales de Choquehuanca.\n",
    "\n",
    "Además de aquello, el Gobierno activó con la ABT (Autoridad de Fiscalización y Control Social de Bosques y Tierras), controles en los chaqueos. El ministro Novillo hizo énfasis en apuntar a los empresarios agropecuarios medianos y grandes, a quienes advirtió con procesos.\n",
    "\n",
    "\n",
    "La autoridad dijo que se controlará “toda actividad que pueda hacerse en los incendios en propiedades medianas y grandes ganaderas. Verificar si éstos tienen o no tienen sus autorizaciones para la quema y si estas han expirado el tiempo y si no, vamos a notificarles y vamos a iniciarles los procesos respectivos”. \n",
    "\n",
    "No obstante, Novillo evitó mencionar a los grupos de avasalladores interculturales se asientan en tierras fiscales y privadas y que también tienen denuncias de chaqueos.\n",
    "\n",
    "\n",
    "Campesinos detenidos\n",
    "\n",
    "Desde la Coordinadora Nacional de Defensa de Territorios Indígenas Originarios Campesinos y Áreas Protegidas de Bolivia (Contiocap) denunciaron que en los últimos días en el municipio de San Buenaventura la Policía aprehendió a dos campesinos que estaban haciendo defensivos para que el fuego no avance. La Policía los acusó de provocar los incendios porque estaban con maquinaria.\n",
    "\n",
    "“El Gobierno ha detenido a comunarios de la población de Tumupasa, a dos hermanos de una comunidad campesina que han sido detenidos con una segadora, una motosierra y con un poco de gasolina. Ellos lo que estaban haciendo era intentar hacerdefensivos, abrir brechas para separar el fuego y que no avance. Ellos han usado la poca gasolina que tenían y sus herramientas como evidencia de que están provocando incendios”, dijo a EL DEBER la representante de la Contiocap, Ruth Alipaz.\n",
    "\n",
    "La representante protestó y dijo que el “Gobierno está haciendo un trabajo pésimo, vulnerando derechos de las personas que están luchando sin ayuda del Gobierno hace más de un mes contra los incendios y los muestra como trofeos”.\n",
    "\n",
    "Después de varias semanas de emergencia e insistentes pedidos de los indígenas, organizaciones sociales, activistas y políticos, de que se declare “Desastre Nacional”, anoche el presidente Luis Arce convocó a un gabinete para tratar la crisis del medioambiente, y determinó pedir ayuda internacional a cuatro países: Francia, Chile, Brasil y Venezuela.\n",
    "\n",
    "Éste último envió de manera inmediata un grupo de bomberos expertos en apagar incendios forestales.\"\"\""
   ]
  },
  {
   "cell_type": "code",
   "execution_count": 9,
   "metadata": {},
   "outputs": [],
   "source": [
    "doc = nlp(text)"
   ]
  },
  {
   "cell_type": "markdown",
   "metadata": {},
   "source": [
    "## Tokenizacion"
   ]
  },
  {
   "cell_type": "code",
   "execution_count": 10,
   "metadata": {},
   "outputs": [
    {
     "name": "stdout",
     "output_type": "stream",
     "text": [
      "['Los', 'incendios', 'que', 'se', 'reactivaron', 'con', 'fuerza', 'las', 'últimas', 'semanas', ',', 'en', 'especial', 'en', 'el', 'norte', 'de', 'La', 'Paz', 'y', 'Beni', ',', 'son', 'calificados', 'como', 'un', '“', 'intento', 'de', 'sabotear', '”', 'al', 'Gobierno', 'de', 'Luis', 'Arce', '.', 'Por', 'tal', 'motivo', ',', 'se', 'envió', 'policías', 'de', 'Inteligencia', 'al', 'norte', 'de', 'La', 'Paz', 'y', 'Beni', 'para', 'identificar', ',', 'aprehender', 'y', 'procesar', 'a', 'los', 'supuestos', 'saboteadores', '.', '\\n\\n', '“', 'Se', 'ha', 'activado', '(', 'un', ')', 'grupo', 'de', 'inteligencia', 'de', 'la', 'Policía', 'que', 'se', 'va', 'a', 'desplazar', ',', 'particularmente', 'en', 'el', 'municipio', 'de', 'Rurrenabaque', '(', 'Beni', ')', 'y', 'San', 'Buenaventura', '(', 'La', 'Paz', ')', ',', 'porque', 'sospechamos', ',', 'y', 'existen', 'evidencias', 'que', 'nos', 'han', 'enviado', 'de', 'llantas', ',', 'existen', 'evidencias', 'que', 'allá', 'ya', 'han', 'detenido', 'personas', 'que', 'están', 'dedicándose', 'a', 'la', 'tarea', 'maliciosa', ',', 'a', 'la', 'tarea', 'malintencionada', 'de', 'provocar', 'estos', 'incendios', '”', ',', 'dijo', 'el', 'ministro', 'de', 'Defensa', 'Edmundo', 'Novillo', '.', '\\n\\n', 'La', 'autoridad', 'pidió', 'ayuda', 'a', 'la', 'población', 'para', 'identificar', 'a', 'estos', '“', 'malos', 'ciudadanos', '”', ',', 'que', 'según', 'la', 'perspectiva', 'del', 'Ejecutivo', ',', 'actúan', 'con', '“', 'intereses', 'oscuros', ',', 'como', 'pasó', 'anteriormente', '.', 'No', 'vamos', 'a', 'permitir', ',', 'de', 'ninguna', 'manera', ',', 'que', 'gente', 'y', 'personas', 'que', 'están', 'provocando', 'estos', 'incendios', 'queden', 'impunes', ',', 'sino', 'vamos', 'a', 'ser', 'muy', 'drásticos', 'con', 'todos', 'ellos', '.', 'Por', 'eso', 'la', 'Policía', 'está', 'desplazando', 'Inteligencia', 'al', 'lugar', '”', '.', '\\n\\n\\n', 'En', 'esa', 'línea', ',', 'el', 'vicepresidente', ',', 'David', 'Choquehuanca', ',', 'exigió', 'que', 'se', 'investigue', 'y', 'castigue', 'a', 'los', 'que', 'buscan', 'sabotear', 'la', 'gestión', 'de', 'Gobierno', '.', '\\n\\n', '“', 'Exigimos', 'a', 'las', 'autoridades', 'competentes', 'celeridad', 'en', 'la', 'investigación', 'y', 'un', 'castigo', 'ejemplar', 'para', 'aquellos', 'que', 'atentan', 'contra', 'la', 'vida', 'y', 'la', 'naturaleza', ',', 'provocando', 'incendios', 'en', 'un', 'intento', 'de', 'sabotear', 'a', 'nuestro', 'Gobierno', '”', ',', 'se', 'lee', 'en', 'las', 'cuentas', 'de', 'redes', 'sociales', 'de', 'Choquehuanca', '.', '\\n\\n', 'Además', 'de', 'aquello', ',', 'el', 'Gobierno', 'activó', 'con', 'la', 'ABT', '(', 'Autoridad', 'de', 'Fiscalización', 'y', 'Control', 'Social', 'de', 'Bosques', 'y', 'Tierras', ')', ',', 'controles', 'en', 'los', 'chaqueos', '.', 'El', 'ministro', 'Novillo', 'hizo', 'énfasis', 'en', 'apuntar', 'a', 'los', 'empresarios', 'agropecuarios', 'medianos', 'y', 'grandes', ',', 'a', 'quienes', 'advirtió', 'con', 'procesos', '.', '\\n\\n\\n', 'La', 'autoridad', 'dijo', 'que', 'se', 'controlará', '“', 'toda', 'actividad', 'que', 'pueda', 'hacerse', 'en', 'los', 'incendios', 'en', 'propiedades', 'medianas', 'y', 'grandes', 'ganaderas', '.', 'Verificar', 'si', 'éstos', 'tienen', 'o', 'no', 'tienen', 'sus', 'autorizaciones', 'para', 'la', 'quema', 'y', 'si', 'estas', 'han', 'expirado', 'el', 'tiempo', 'y', 'si', 'no', ',', 'vamos', 'a', 'notificarles', 'y', 'vamos', 'a', 'iniciarles', 'los', 'procesos', 'respectivos', '”', '.', '\\n\\n', 'No', 'obstante', ',', 'Novillo', 'evitó', 'mencionar', 'a', 'los', 'grupos', 'de', 'avasalladores', 'interculturales', 'se', 'asientan', 'en', 'tierras', 'fiscales', 'y', 'privadas', 'y', 'que', 'también', 'tienen', 'denuncias', 'de', 'chaqueos', '.', '\\n\\n\\n', 'Campesinos', 'detenidos', '\\n\\n', 'Desde', 'la', 'Coordinadora', 'Nacional', 'de', 'Defensa', 'de', 'Territorios', 'Indígenas', 'Originarios', 'Campesinos', 'y', 'Áreas', 'Protegidas', 'de', 'Bolivia', '(', 'Contiocap', ')', 'denunciaron', 'que', 'en', 'los', 'últimos', 'días', 'en', 'el', 'municipio', 'de', 'San', 'Buenaventura', 'la', 'Policía', 'aprehendió', 'a', 'dos', 'campesinos', 'que', 'estaban', 'haciendo', 'defensivos', 'para', 'que', 'el', 'fuego', 'no', 'avance', '.', 'La', 'Policía', 'los', 'acusó', 'de', 'provocar', 'los', 'incendios', 'porque', 'estaban', 'con', 'maquinaria', '.', '\\n\\n', '“', 'El', 'Gobierno', 'ha', 'detenido', 'a', 'comunarios', 'de', 'la', 'población', 'de', 'Tumupasa', ',', 'a', 'dos', 'hermanos', 'de', 'una', 'comunidad', 'campesina', 'que', 'han', 'sido', 'detenidos', 'con', 'una', 'segadora', ',', 'una', 'motosierra', 'y', 'con', 'un', 'poco', 'de', 'gasolina', '.', 'Ellos', 'lo', 'que', 'estaban', 'haciendo', 'era', 'intentar', 'hacerdefensivos', ',', 'abrir', 'brechas', 'para', 'separar', 'el', 'fuego', 'y', 'que', 'no', 'avance', '.', 'Ellos', 'han', 'usado', 'la', 'poca', 'gasolina', 'que', 'tenían', 'y', 'sus', 'herramientas', 'como', 'evidencia', 'de', 'que', 'están', 'provocando', 'incendios', '”', ',', 'dijo', 'a', 'EL', 'DEBER', 'la', 'representante', 'de', 'la', 'Contiocap', ',', 'Ruth', 'Alipaz', '.', '\\n\\n', 'La', 'representante', 'protestó', 'y', 'dijo', 'que', 'el', '“', 'Gobierno', 'está', 'haciendo', 'un', 'trabajo', 'pésimo', ',', 'vulnerando', 'derechos', 'de', 'las', 'personas', 'que', 'están', 'luchando', 'sin', 'ayuda', 'del', 'Gobierno', 'hace', 'más', 'de', 'un', 'mes', 'contra', 'los', 'incendios', 'y', 'los', 'muestra', 'como', 'trofeos', '”', '.', '\\n\\n', 'Después', 'de', 'varias', 'semanas', 'de', 'emergencia', 'e', 'insistentes', 'pedidos', 'de', 'los', 'indígenas', ',', 'organizaciones', 'sociales', ',', 'activistas', 'y', 'políticos', ',', 'de', 'que', 'se', 'declare', '“', 'Desastre', 'Nacional', '”', ',', 'anoche', 'el', 'presidente', 'Luis', 'Arce', 'convocó', 'a', 'un', 'gabinete', 'para', 'tratar', 'la', 'crisis', 'del', 'medioambiente', ',', 'y', 'determinó', 'pedir', 'ayuda', 'internacional', 'a', 'cuatro', 'países', ':', 'Francia', ',', 'Chile', ',', 'Brasil', 'y', 'Venezuela', '.', '\\n\\n', 'Éste', 'último', 'envió', 'de', 'manera', 'inmediata', 'un', 'grupo', 'de', 'bomberos', 'expertos', 'en', 'apagar', 'incendios', 'forestales', '.']\n"
     ]
    }
   ],
   "source": [
    "tokens = [token.text for token in doc]\n",
    "print(tokens)"
   ]
  },
  {
   "cell_type": "markdown",
   "metadata": {},
   "source": [
    "## POS - tagging"
   ]
  },
  {
   "cell_type": "code",
   "execution_count": 11,
   "metadata": {},
   "outputs": [
    {
     "name": "stdout",
     "output_type": "stream",
     "text": [
      "[('reactivaron', 'VERB'), ('calificados', 'VERB'), ('sabotear', 'VERB'), ('envió', 'VERB'), ('identificar', 'VERB'), ('aprehender', 'VERB'), ('procesar', 'VERB'), ('activado', 'VERB'), ('desplazar', 'VERB'), ('sospechamos', 'VERB'), ('existen', 'VERB'), ('enviado', 'VERB'), ('existen', 'VERB'), ('detenido', 'VERB'), ('dedicándose', 'VERB'), ('provocar', 'VERB'), ('dijo', 'VERB'), ('pidió', 'VERB'), ('identificar', 'VERB'), ('actúan', 'VERB'), ('pasó', 'VERB'), ('permitir', 'VERB'), ('provocando', 'VERB'), ('queden', 'VERB'), ('desplazando', 'VERB'), ('exigió', 'VERB'), ('investigue', 'VERB'), ('castigue', 'VERB'), ('buscan', 'VERB'), ('sabotear', 'VERB'), ('Exigimos', 'VERB'), ('atentan', 'VERB'), ('provocando', 'VERB'), ('sabotear', 'VERB'), ('lee', 'VERB'), ('hizo', 'VERB'), ('apuntar', 'VERB'), ('advirtió', 'VERB'), ('dijo', 'VERB'), ('controlará', 'VERB'), ('hacerse', 'VERB'), ('Verificar', 'VERB'), ('tienen', 'VERB'), ('tienen', 'VERB'), ('expirado', 'VERB'), ('notificarles', 'VERB'), ('iniciarles', 'VERB'), ('evitó', 'VERB'), ('mencionar', 'VERB'), ('asientan', 'VERB'), ('tienen', 'VERB'), ('denunciaron', 'VERB'), ('aprehendió', 'VERB'), ('haciendo', 'VERB'), ('acusó', 'VERB'), ('provocar', 'VERB'), ('detenido', 'VERB'), ('detenidos', 'VERB'), ('haciendo', 'VERB'), ('intentar', 'VERB'), ('abrir', 'VERB'), ('separar', 'VERB'), ('usado', 'VERB'), ('tenían', 'VERB'), ('provocando', 'VERB'), ('dijo', 'VERB'), ('protestó', 'VERB'), ('dijo', 'VERB'), ('haciendo', 'VERB'), ('vulnerando', 'VERB'), ('luchando', 'VERB'), ('hace', 'VERB'), ('muestra', 'VERB'), ('declare', 'VERB'), ('convocó', 'VERB'), ('tratar', 'VERB'), ('determinó', 'VERB'), ('pedir', 'VERB'), ('envió', 'VERB'), ('apagar', 'VERB')]\n"
     ]
    }
   ],
   "source": [
    "# verbos en el articulo\n",
    "pos_tags = [(token.text, token.pos_) for token in doc if token.pos_ == \"VERB\"]\n",
    "print(pos_tags)"
   ]
  },
  {
   "cell_type": "markdown",
   "metadata": {},
   "source": [
    "## Named entity recognition (NER)"
   ]
  },
  {
   "cell_type": "code",
   "execution_count": 12,
   "metadata": {},
   "outputs": [
    {
     "name": "stdout",
     "output_type": "stream",
     "text": [
      "[('La Paz', 'LOC'), ('Beni', 'LOC'), ('Gobierno de', 'LOC'), ('Luis Arce', 'PER'), ('Inteligencia', 'ORG'), ('La Paz', 'LOC'), ('Beni', 'LOC'), ('Policía', 'ORG'), ('Rurrenabaque', 'LOC'), ('Beni', 'LOC'), ('San Buenaventura', 'LOC'), ('La Paz', 'LOC'), ('Defensa', 'LOC'), ('Edmundo Novillo', 'PER'), ('Ejecutivo', 'ORG'), ('No', 'MISC'), ('Por eso la Policía', 'MISC'), ('Inteligencia', 'ORG'), ('David Choquehuanca', 'PER'), ('Gobierno', 'LOC'), ('Gobierno', 'MISC'), ('Choquehuanca', 'PER'), ('Gobierno activó', 'ORG'), ('ABT', 'ORG'), ('Autoridad de Fiscalización', 'ORG'), ('Control Social de Bosques y', 'MISC'), ('Tierras', 'LOC'), ('El ministro Novillo', 'MISC'), ('Verificar', 'MISC'), ('Novillo', 'PER'), ('Campesinos', 'PER'), ('Coordinadora Nacional de Defensa de Territorios Indígenas Originarios Campesinos', 'ORG'), ('Áreas Protegidas de', 'LOC'), ('Bolivia', 'LOC'), ('Contiocap', 'LOC'), ('San Buenaventura', 'LOC'), ('Policía', 'ORG'), ('La Policía', 'MISC'), ('Gobierno', 'LOC'), ('Tumupasa', 'LOC'), ('Ellos', 'MISC'), ('Ellos', 'MISC'), ('EL DEBER', 'LOC'), ('Contiocap', 'LOC'), ('Ruth Alipaz', 'PER'), ('Gobierno', 'LOC'), ('Gobierno', 'LOC'), ('Desastre Nacional', 'MISC'), ('Luis Arce', 'PER'), ('Francia', 'LOC'), ('Chile', 'LOC'), ('Brasil', 'LOC'), ('Venezuela', 'LOC')]\n"
     ]
    }
   ],
   "source": [
    "entities = [(ent.text, ent.label_) for ent in doc.ents]\n",
    "\n",
    "print(entities)"
   ]
  },
  {
   "cell_type": "markdown",
   "metadata": {},
   "source": [
    "## Dependency parsing"
   ]
  },
  {
   "cell_type": "code",
   "execution_count": 13,
   "metadata": {},
   "outputs": [
    {
     "name": "stdout",
     "output_type": "stream",
     "text": [
      "[('Los', 'det'), ('incendios', 'nsubj'), ('que', 'nsubj'), ('se', 'expl:pv'), ('reactivaron', 'acl'), ('con', 'case'), ('fuerza', 'obl'), ('las', 'det'), ('últimas', 'amod'), ('semanas', 'obl'), (',', 'punct'), ('en', 'advmod'), ('especial', 'fixed'), ('en', 'case'), ('el', 'det'), ('norte', 'nmod'), ('de', 'case'), ('La', 'det'), ('Paz', 'nmod'), ('y', 'cc'), ('Beni', 'conj'), (',', 'punct'), ('son', 'aux'), ('calificados', 'ROOT'), ('como', 'mark'), ('un', 'det'), ('“', 'punct'), ('intento', 'obj'), ('de', 'mark'), ('sabotear', 'acl'), ('”', 'punct'), ('al', 'case'), ('Gobierno', 'nmod'), ('de', 'case'), ('Luis', 'nmod'), ('Arce', 'flat'), ('.', 'punct'), ('Por', 'advmod'), ('tal', 'fixed'), ('motivo', 'fixed'), (',', 'punct'), ('se', 'expl:pass'), ('envió', 'ROOT'), ('policías', 'nsubj'), ('de', 'case'), ('Inteligencia', 'nmod'), ('al', 'case'), ('norte', 'obl'), ('de', 'case'), ('La', 'det'), ('Paz', 'nmod'), ('y', 'cc'), ('Beni', 'conj'), ('para', 'mark'), ('identificar', 'advcl'), (',', 'punct'), ('aprehender', 'advcl'), ('y', 'cc'), ('procesar', 'conj'), ('a', 'case'), ('los', 'det'), ('supuestos', 'amod'), ('saboteadores', 'obj'), ('.', 'punct'), ('\\n\\n', 'dep'), ('“', 'punct'), ('Se', 'expl:pass'), ('ha', 'aux'), ('activado', 'ccomp'), ('(', 'punct'), ('un', 'det'), (')', 'punct'), ('grupo', 'nsubj'), ('de', 'case'), ('inteligencia', 'nmod'), ('de', 'case'), ('la', 'det'), ('Policía', 'nmod'), ('que', 'nsubj'), ('se', 'expl:pv'), ('va', 'aux'), ('a', 'mark'), ('desplazar', 'acl'), (',', 'punct'), ('particularmente', 'advmod'), ('en', 'case'), ('el', 'det'), ('municipio', 'nmod'), ('de', 'case'), ('Rurrenabaque', 'nmod'), ('(', 'punct'), ('Beni', 'flat'), (')', 'punct'), ('y', 'cc'), ('San', 'conj'), ('Buenaventura', 'flat'), ('(', 'punct'), ('La', 'det'), ('Paz', 'flat'), (')', 'punct'), (',', 'punct'), ('porque', 'mark'), ('sospechamos', 'advcl'), (',', 'punct'), ('y', 'cc'), ('existen', 'conj'), ('evidencias', 'nsubj'), ('que', 'nsubj'), ('nos', 'iobj'), ('han', 'aux'), ('enviado', 'acl'), ('de', 'case'), ('llantas', 'obl'), (',', 'punct'), ('existen', 'advcl'), ('evidencias', 'nsubj'), ('que', 'obj'), ('allá', 'advmod'), ('ya', 'advmod'), ('han', 'aux'), ('detenido', 'acl'), ('personas', 'nsubj'), ('que', 'nsubj'), ('están', 'aux'), ('dedicándose', 'acl'), ('a', 'case'), ('la', 'det'), ('tarea', 'obj'), ('maliciosa', 'amod'), (',', 'punct'), ('a', 'case'), ('la', 'det'), ('tarea', 'nmod'), ('malintencionada', 'amod'), ('de', 'mark'), ('provocar', 'xcomp'), ('estos', 'det'), ('incendios', 'obj'), ('”', 'punct'), (',', 'punct'), ('dijo', 'ROOT'), ('el', 'det'), ('ministro', 'nsubj'), ('de', 'case'), ('Defensa', 'nmod'), ('Edmundo', 'appos'), ('Novillo', 'flat'), ('.', 'punct'), ('\\n\\n', 'dep'), ('La', 'det'), ('autoridad', 'nsubj'), ('pidió', 'ROOT'), ('ayuda', 'obj'), ('a', 'case'), ('la', 'det'), ('población', 'nmod'), ('para', 'mark'), ('identificar', 'advcl'), ('a', 'case'), ('estos', 'det'), ('“', 'punct'), ('malos', 'amod'), ('ciudadanos', 'obj'), ('”', 'punct'), (',', 'punct'), ('que', 'nsubj'), ('según', 'case'), ('la', 'det'), ('perspectiva', 'obl'), ('del', 'case'), ('Ejecutivo', 'nmod'), (',', 'punct'), ('actúan', 'advcl'), ('con', 'case'), ('“', 'punct'), ('intereses', 'obl'), ('oscuros', 'amod'), (',', 'punct'), ('como', 'mark'), ('pasó', 'acl'), ('anteriormente', 'advmod'), ('.', 'punct'), ('No', 'advmod'), ('vamos', 'aux'), ('a', 'mark'), ('permitir', 'ROOT'), (',', 'punct'), ('de', 'case'), ('ninguna', 'det'), ('manera', 'obl'), (',', 'punct'), ('que', 'mark'), ('gente', 'nsubj'), ('y', 'cc'), ('personas', 'conj'), ('que', 'nsubj'), ('están', 'aux'), ('provocando', 'acl'), ('estos', 'det'), ('incendios', 'obj'), ('queden', 'ccomp'), ('impunes', 'obj'), (',', 'punct'), ('sino', 'cc'), ('vamos', 'aux'), ('a', 'case'), ('ser', 'cop'), ('muy', 'advmod'), ('drásticos', 'conj'), ('con', 'case'), ('todos', 'det'), ('ellos', 'nmod'), ('.', 'punct'), ('Por', 'case'), ('eso', 'obl'), ('la', 'det'), ('Policía', 'nsubj'), ('está', 'aux'), ('desplazando', 'ROOT'), ('Inteligencia', 'nsubj'), ('al', 'case'), ('lugar', 'obl'), ('”', 'punct'), ('.', 'punct'), ('\\n\\n\\n', 'dep'), ('En', 'case'), ('esa', 'det'), ('línea', 'obl'), (',', 'punct'), ('el', 'det'), ('vicepresidente', 'nsubj'), (',', 'punct'), ('David', 'appos'), ('Choquehuanca', 'flat'), (',', 'punct'), ('exigió', 'ROOT'), ('que', 'mark'), ('se', 'expl:pass'), ('investigue', 'ccomp'), ('y', 'cc'), ('castigue', 'conj'), ('a', 'mark'), ('los', 'det'), ('que', 'nsubj'), ('buscan', 'ccomp'), ('sabotear', 'xcomp'), ('la', 'det'), ('gestión', 'obj'), ('de', 'case'), ('Gobierno', 'nmod'), ('.', 'punct'), ('\\n\\n', 'dep'), ('“', 'punct'), ('Exigimos', 'ccomp'), ('a', 'case'), ('las', 'det'), ('autoridades', 'obj'), ('competentes', 'amod'), ('celeridad', 'nmod'), ('en', 'case'), ('la', 'det'), ('investigación', 'nmod'), ('y', 'cc'), ('un', 'det'), ('castigo', 'conj'), ('ejemplar', 'amod'), ('para', 'case'), ('aquellos', 'nmod'), ('que', 'nsubj'), ('atentan', 'acl'), ('contra', 'case'), ('la', 'det'), ('vida', 'obl'), ('y', 'cc'), ('la', 'det'), ('naturaleza', 'conj'), (',', 'punct'), ('provocando', 'advcl'), ('incendios', 'obj'), ('en', 'case'), ('un', 'det'), ('intento', 'obl'), ('de', 'mark'), ('sabotear', 'acl'), ('a', 'case'), ('nuestro', 'det'), ('Gobierno', 'obj'), ('”', 'punct'), (',', 'punct'), ('se', 'expl:pass'), ('lee', 'ROOT'), ('en', 'case'), ('las', 'det'), ('cuentas', 'obl'), ('de', 'case'), ('redes', 'nmod'), ('sociales', 'amod'), ('de', 'case'), ('Choquehuanca', 'nmod'), ('.', 'punct'), ('\\n\\n', 'dep'), ('Además', 'case'), ('de', 'fixed'), ('aquello', 'nmod'), (',', 'punct'), ('el', 'det'), ('Gobierno', 'ROOT'), ('activó', 'amod'), ('con', 'case'), ('la', 'det'), ('ABT', 'nmod'), ('(', 'punct'), ('Autoridad', 'flat'), ('de', 'case'), ('Fiscalización', 'flat'), ('y', 'cc'), ('Control', 'conj'), ('Social', 'flat'), ('de', 'case'), ('Bosques', 'flat'), ('y', 'cc'), ('Tierras', 'conj'), (')', 'punct'), (',', 'punct'), ('controles', 'appos'), ('en', 'case'), ('los', 'det'), ('chaqueos', 'nmod'), ('.', 'punct'), ('El', 'det'), ('ministro', 'nsubj'), ('Novillo', 'appos'), ('hizo', 'ROOT'), ('énfasis', 'obj'), ('en', 'mark'), ('apuntar', 'advcl'), ('a', 'case'), ('los', 'det'), ('empresarios', 'obj'), ('agropecuarios', 'amod'), ('medianos', 'amod'), ('y', 'cc'), ('grandes', 'conj'), (',', 'punct'), ('a', 'case'), ('quienes', 'obj'), ('advirtió', 'acl'), ('con', 'case'), ('procesos', 'obj'), ('.', 'punct'), ('\\n\\n\\n', 'dep'), ('La', 'det'), ('autoridad', 'nsubj'), ('dijo', 'ROOT'), ('que', 'mark'), ('se', 'expl:pv'), ('controlará', 'ccomp'), ('“', 'punct'), ('toda', 'det'), ('actividad', 'nsubj'), ('que', 'nsubj'), ('pueda', 'aux'), ('hacerse', 'acl'), ('en', 'case'), ('los', 'det'), ('incendios', 'obj'), ('en', 'case'), ('propiedades', 'nmod'), ('medianas', 'amod'), ('y', 'cc'), ('grandes', 'conj'), ('ganaderas', 'amod'), ('.', 'punct'), ('Verificar', 'ROOT'), ('si', 'mark'), ('éstos', 'nsubj'), ('tienen', 'advcl'), ('o', 'cc'), ('no', 'advmod'), ('tienen', 'ccomp'), ('sus', 'det'), ('autorizaciones', 'obj'), ('para', 'case'), ('la', 'det'), ('quema', 'obl'), ('y', 'cc'), ('si', 'mark'), ('estas', 'nsubj'), ('han', 'aux'), ('expirado', 'conj'), ('el', 'det'), ('tiempo', 'obj'), ('y', 'cc'), ('si', 'mark'), ('no', 'advmod'), (',', 'punct'), ('vamos', 'aux'), ('a', 'mark'), ('notificarles', 'conj'), ('y', 'cc'), ('vamos', 'aux'), ('a', 'mark'), ('iniciarles', 'conj'), ('los', 'det'), ('procesos', 'obj'), ('respectivos', 'amod'), ('”', 'punct'), ('.', 'punct'), ('\\n\\n', 'dep'), ('No', 'advmod'), ('obstante', 'fixed'), (',', 'punct'), ('Novillo', 'nsubj'), ('evitó', 'ROOT'), ('mencionar', 'xcomp'), ('a', 'case'), ('los', 'det'), ('grupos', 'obj'), ('de', 'case'), ('avasalladores', 'nmod'), ('interculturales', 'amod'), ('se', 'expl:pv'), ('asientan', 'advcl'), ('en', 'case'), ('tierras', 'obl'), ('fiscales', 'amod'), ('y', 'cc'), ('privadas', 'conj'), ('y', 'cc'), ('que', 'nsubj'), ('también', 'advmod'), ('tienen', 'conj'), ('denuncias', 'obj'), ('de', 'case'), ('chaqueos', 'nmod'), ('.', 'punct'), ('\\n\\n\\n', 'dep'), ('Campesinos', 'nsubj'), ('detenidos', 'amod'), ('\\n\\n', 'dep'), ('Desde', 'case'), ('la', 'det'), ('Coordinadora', 'obl'), ('Nacional', 'flat'), ('de', 'case'), ('Defensa', 'flat'), ('de', 'case'), ('Territorios', 'flat'), ('Indígenas', 'flat'), ('Originarios', 'flat'), ('Campesinos', 'flat'), ('y', 'cc'), ('Áreas', 'conj'), ('Protegidas', 'flat'), ('de', 'case'), ('Bolivia', 'flat'), ('(', 'punct'), ('Contiocap', 'flat'), (')', 'punct'), ('denunciaron', 'ROOT'), ('que', 'mark'), ('en', 'case'), ('los', 'det'), ('últimos', 'amod'), ('días', 'obl'), ('en', 'case'), ('el', 'det'), ('municipio', 'nmod'), ('de', 'case'), ('San', 'nmod'), ('Buenaventura', 'flat'), ('la', 'det'), ('Policía', 'nsubj'), ('aprehendió', 'ccomp'), ('a', 'case'), ('dos', 'nummod'), ('campesinos', 'obj'), ('que', 'nsubj'), ('estaban', 'aux'), ('haciendo', 'acl'), ('defensivos', 'obj'), ('para', 'mark'), ('que', 'mark'), ('el', 'det'), ('fuego', 'nsubj'), ('no', 'advmod'), ('avance', 'advcl'), ('.', 'punct'), ('La', 'det'), ('Policía', 'nsubj'), ('los', 'iobj'), ('acusó', 'ROOT'), ('de', 'mark'), ('provocar', 'xcomp'), ('los', 'det'), ('incendios', 'obj'), ('porque', 'mark'), ('estaban', 'cop'), ('con', 'case'), ('maquinaria', 'advcl'), ('.', 'punct'), ('\\n\\n', 'dep'), ('“', 'punct'), ('El', 'det'), ('Gobierno', 'nsubj'), ('ha', 'aux'), ('detenido', 'ROOT'), ('a', 'case'), ('comunarios', 'obj'), ('de', 'case'), ('la', 'det'), ('población', 'nmod'), ('de', 'case'), ('Tumupasa', 'nmod'), (',', 'punct'), ('a', 'case'), ('dos', 'nummod'), ('hermanos', 'nmod'), ('de', 'case'), ('una', 'det'), ('comunidad', 'nmod'), ('campesina', 'amod'), ('que', 'nsubj'), ('han', 'aux'), ('sido', 'aux'), ('detenidos', 'acl'), ('con', 'case'), ('una', 'det'), ('segadora', 'obl'), (',', 'punct'), ('una', 'det'), ('motosierra', 'appos'), ('y', 'cc'), ('con', 'case'), ('un', 'det'), ('poco', 'conj'), ('de', 'case'), ('gasolina', 'nmod'), ('.', 'punct'), ('Ellos', 'nsubj'), ('lo', 'det'), ('que', 'obj'), ('estaban', 'aux'), ('haciendo', 'csubj'), ('era', 'ROOT'), ('intentar', 'ccomp'), ('hacerdefensivos', 'obj'), (',', 'punct'), ('abrir', 'xcomp'), ('brechas', 'obj'), ('para', 'mark'), ('separar', 'acl'), ('el', 'det'), ('fuego', 'obj'), ('y', 'cc'), ('que', 'mark'), ('no', 'advmod'), ('avance', 'conj'), ('.', 'punct'), ('Ellos', 'nsubj'), ('han', 'aux'), ('usado', 'ccomp'), ('la', 'det'), ('poca', 'det'), ('gasolina', 'obj'), ('que', 'obj'), ('tenían', 'acl'), ('y', 'cc'), ('sus', 'det'), ('herramientas', 'conj'), ('como', 'mark'), ('evidencia', 'obl'), ('de', 'mark'), ('que', 'mark'), ('están', 'aux'), ('provocando', 'acl'), ('incendios', 'obj'), ('”', 'punct'), (',', 'punct'), ('dijo', 'ROOT'), ('a', 'case'), ('EL', 'det'), ('DEBER', 'iobj'), ('la', 'det'), ('representante', 'nsubj'), ('de', 'case'), ('la', 'det'), ('Contiocap', 'nmod'), (',', 'punct'), ('Ruth', 'appos'), ('Alipaz', 'flat'), ('.', 'punct'), ('\\n\\n', 'dep'), ('La', 'det'), ('representante', 'nsubj'), ('protestó', 'ROOT'), ('y', 'cc'), ('dijo', 'conj'), ('que', 'mark'), ('el', 'det'), ('“', 'punct'), ('Gobierno', 'nsubj'), ('está', 'aux'), ('haciendo', 'ccomp'), ('un', 'det'), ('trabajo', 'obj'), ('pésimo', 'amod'), (',', 'punct'), ('vulnerando', 'advcl'), ('derechos', 'obj'), ('de', 'case'), ('las', 'det'), ('personas', 'nmod'), ('que', 'nsubj'), ('están', 'aux'), ('luchando', 'acl'), ('sin', 'case'), ('ayuda', 'obl'), ('del', 'case'), ('Gobierno', 'nmod'), ('hace', 'advcl'), ('más', 'advmod'), ('de', 'case'), ('un', 'det'), ('mes', 'obj'), ('contra', 'case'), ('los', 'det'), ('incendios', 'obj'), ('y', 'cc'), ('los', 'det'), ('muestra', 'conj'), ('como', 'mark'), ('trofeos', 'obl'), ('”', 'punct'), ('.', 'punct'), ('\\n\\n', 'dep'), ('Después', 'case'), ('de', 'case'), ('varias', 'det'), ('semanas', 'obl'), ('de', 'case'), ('emergencia', 'nmod'), ('e', 'cc'), ('insistentes', 'amod'), ('pedidos', 'nsubj'), ('de', 'case'), ('los', 'det'), ('indígenas', 'nmod'), (',', 'punct'), ('organizaciones', 'conj'), ('sociales', 'amod'), (',', 'punct'), ('activistas', 'conj'), ('y', 'cc'), ('políticos', 'conj'), (',', 'punct'), ('de', 'mark'), ('que', 'mark'), ('se', 'expl:pv'), ('declare', 'acl'), ('“', 'punct'), ('Desastre', 'obj'), ('Nacional', 'flat'), ('”', 'punct'), (',', 'punct'), ('anoche', 'advmod'), ('el', 'det'), ('presidente', 'nsubj'), ('Luis', 'appos'), ('Arce', 'flat'), ('convocó', 'ROOT'), ('a', 'case'), ('un', 'det'), ('gabinete', 'obj'), ('para', 'mark'), ('tratar', 'advcl'), ('la', 'det'), ('crisis', 'obj'), ('del', 'case'), ('medioambiente', 'nmod'), (',', 'punct'), ('y', 'cc'), ('determinó', 'conj'), ('pedir', 'xcomp'), ('ayuda', 'obj'), ('internacional', 'amod'), ('a', 'case'), ('cuatro', 'nummod'), ('países', 'obl'), (':', 'punct'), ('Francia', 'appos'), (',', 'punct'), ('Chile', 'conj'), (',', 'punct'), ('Brasil', 'conj'), ('y', 'cc'), ('Venezuela', 'conj'), ('.', 'punct'), ('\\n\\n', 'dep'), ('Éste', 'nsubj'), ('último', 'amod'), ('envió', 'ROOT'), ('de', 'case'), ('manera', 'obl'), ('inmediata', 'amod'), ('un', 'det'), ('grupo', 'obj'), ('de', 'case'), ('bomberos', 'nmod'), ('expertos', 'amod'), ('en', 'mark'), ('apagar', 'acl'), ('incendios', 'obj'), ('forestales', 'amod'), ('.', 'punct')]\n"
     ]
    }
   ],
   "source": [
    "dependency_tree = [(token.text, token.dep_) for token in doc]\n",
    "print(dependency_tree)"
   ]
  },
  {
   "cell_type": "code",
   "execution_count": 14,
   "metadata": {},
   "outputs": [],
   "source": [
    "import requests\n",
    "from bs4 import BeautifulSoup\n",
    "def extract_text(url: str) -> str:\n",
    "    # NO FUNCIONA\n",
    "    response = requests.get(url)\n",
    "    soup = BeautifulSoup(response.text, \"html.parser\")\n",
    "    body = soup.find_all(\"div\", class_=\"text-editor\")\n",
    "    text_elements = [element.get_text() for element in body]\n",
    "    return text_elements[0]\n",
    "    # return \"\""
   ]
  },
  {
   "cell_type": "code",
   "execution_count": 16,
   "metadata": {},
   "outputs": [
    {
     "name": "stdout",
     "output_type": "stream",
     "text": [
      "Incrustar nota7 de octubre de 2024, 4:00 AM7 de octubre de 2024, 4:00 AMDesde la madrugada del domingo 6 de octubre, la humareda ya empezaba a dificultar la visibilidad en las calles, situación que se acentuó a lo largo de toda la pasada jornada.El reporte de la Alcaldía cruceña informaba que la contaminación del aire llegaba a los PM2.5, lo que significaba una calidad muy mala del aire.Por su lado, la plataforma mundial IQAir indicaba que la calidad del aire en Santa Cruz de la Sierra estaba por los 506, en la categoría de peligrosa.“La concentración de PM2.5 en Santa Cruz de la Sierra es actualmente 65,6 veces superior al valor guía anual de calidad del aire de la Organización Mundial de la Salud (OMS)”, alertaba ese portal web.Ese daño ambiental y a la salud pública que ayer no se terminaba de entender, pero que era delatado por el nivel de concentración del humo, obtuvo respuesta con los datos de los satélites Landsat 9 y Sentinel. De una u otra manera, la información luego fue confirmada con el análisis de los reportes de la Gobernación de Santa Cruz, la Fundación Tierra, del Ministerio de Medio Ambiente y Agua (MMAyA) y de la Autoridad de Fiscalización y Control Social de Bosque y Tierra (ABT), que con algunas diferencias, mostraron datos alarmantes del avance del fuego en septiembre.De acuerdo a los satélites mencionados, hasta finales de agosto la superficie quemada superaba las 3,6 millones de hectáreas, la mayoría en superficie boscosa (55%).Sin embargo, en los últimos días de septiembre el monitoreo arrojaba un daño de casi seis millones de hectáreas en 22 municipios, y el 91%, más de cinco millones, se concentraba solo en seis jurisdicciones: San Matías, San Ignacio, Concepción, Urubichá, San Rafael y Ascensión de Guarayos.“Es lamentable lo que pasa con los bosques de Ascensión y Urubichá, son áreas forestales muy vulnerables al fuego, y encima a la vegetación le cuesta recuperarse. Están trabajando para que se consuma todo. Se debería priorizr todas estas áreas, o el fuego seguirá avanzando hasta las sabanas benianas, y ya no falta mucho”, concluyeron los ingenieros forestales que hicieron el análisis para EL DEBER.Asimismo, lamentaron la pérdida de fauna “irreversible y de la que nadie está hablando”.ConfirmaciónAnte la alerta del equipo de profesionales, EL DEBER analizó los reportes diarios de este año desde junio, cuando se iniciaron los incendios en el departamento, y que fueron realizados, cada cual por su lado, por la ABT y por la Gobernación cruceña.Hasta el 12 de septiembre, el reporte del COED Departamental reconocía casi 3,5 millones de hectáreas quemadas, mientras que el de la ABT admitía, hasta el 31 de agosto, una superficie quemada de casi 3,9 millones de ha, pero en todo el país, informando que en Santa Cruz el área afectada era de 2,3 millones de ha.Recién el 27 de septiembre, luego de datos a medias y del hermetismo del nivel central, la Gobernación de Santa Cruz aceptó que eran siete millones las hectáreas arrasadas por el fuego, lo que confirmada la devastación.“Es el mayor desastre ambiental que ha vivido el departamento de Santa Cruz. Se continúa trabajando, es un trabajo arduo, incansable. Lamentablemente, persisten estos incendios provocados”, dijo en esa fecha Jhonny Rojas, coordinador del COED.Hasta finales de septiembre, 26 comunidades sufrieron daños directos, 21 viviendas fueron destruidas y más de 4.100 familias se encontraban afectadas.Por su parte, en la primera semana de octubre, el reporte de la ABT se disparó de esos casi 3,9 millones de ha quemadas en el país, a casi siete en todo el territorio nacional, 5,2 millones en Santa Cruz, y 1,6 millones de ha en Beni, confirmando que las cifras se dispararon.Desastre nacionalLa semana pasada, una investigación de Fundación Tierra informaba que hasta el 30 de septiembre, la superficie quemada en Bolivia alcanzaba las 10 millones de hectáreas, muy por encima de las 5,3 millones de ha de 2019, cuando se creía que se alcanzó el pico máximo del daño ambiental.Según Gonzalo Colque, investigador de la Fundación Tierra, Santa Cruz acaparó el 70% del desastre, con siete millones de hectáreas afectadas.Este lunes, a las 10:00 horas, esta misma organización no gubernamental dará una conferencia de prensa virtual para brindar más detalles de la problemática de los incendios.Por su parte, también la semana pasada, el Gobierno central registró 6,9 millones de hectáreas afectadas por incendios forestales.El ministro de Medio Ambiente y Agua, Alan Lisperguer, indicó que las afectaciones por los incendios forestales registran 4,6 millones de hectáreas en áreas boscosas y 2,3 millones corresponderían a pastizales, dejando un total de 6,9 millones de hectáreas.Admitió que, según algunos Tierras expertos, para recuperar la tierra dañada por los incendios mínimamente se requieren 10 años, y remarcó que se suspendieron los chaqueos, a pesar de que esto no se está cumpliendo.Operaciones aéreasAyer, los vuelos en el aeropuerto Viru Viru fueron suspendidos a las 09:37 de la mañana, cuando las condiciones de seguridad para las operaciones aéreas no se cumplían, dado que la visibilidad era inferior a los 1.600 metros requeridos por la normativa vigente.La medida se tomó para garantizar la seguridad de los pasajeros y la integridad de las aeronaves, pero a las 11:24, desde Navegación Aérea y Aeropuertos Bolivianos (Naabol) se informó que las condiciones climáticas habían mejorado lo suficiente como para reanudar las operaciones a partir de las 15:24.Peligro para la saludDe acuerdo a la plataforma IQAir, ayer la calidad del aire en la capital cruceña era de 506 en PM2.5, alertando sobre un nivel de peligrosidad para la salud pública.La evidencia científica indica que estas partículas PM2.5 tienen efectos más severos sobre la salud que las más grandes, PM10.Diversas publicaciones explican que su tamaño hace que sean más ligeras y que por eso permanezcan por más tiempo en el aire, no solo prolongando sus efectos, sino también facilitando su transporte por el viento a grandes distancias, y acumulándose en el sistema respiratorio de las personas.La Organización Mundial de la Salud (OMS) ha reconocido que la contaminación atmosférica es uno de los principales riesgos ambientales para la salud en América, y estimó que en 2019 alrededor de 6,7 millones de muertes prematuras se atribuyeron anualmente a los efectos de la contaminación del aire ambiente y doméstico, y que cerca del 99% de la población mundial vivía en lugares donde no se cumplía con la calidad del aire.Tierra fiscal y bosquesSegún las declaraciones del ministro de Medio Ambiente y Agua, de los casi siete millones de hectáreas afectadas en el país, 4,6 millones corresponderían a cobertura boscosa, lo que agrava todavía más el panorama, por el daño a la biodiversidad.El 16 de septiembre, cuando las cifras estaban alejadas de los datos actuales, el biólogo Vincent Vos, investigador de la Universidad del Beni, ya calculaba un daño de al menos 10 millones de animales heridos o muertos, solo en la Chiquitania.Asimismo, dijo que casi medio millón de árboles fueron calcinados.En septiembre, la diputada María René Álvarez realizó un foro por la seguridad de la tierra, en el que participó el director del INRA, Eulogio Núñez.En esa oportunidad, Núñez informó que del total de la superficie saneada en Santa Cruz, el 49% corresponde a tierra fiscal no disponible, es decir no apta para dotación, la mayor cifra del país en esta categoría. También admitió que del total no saneado, el 64% corresponde a la propiedad mediana y empresarial.Hasta el 2 de septiembre, cuando la ABT cercenó su informe diario, ese reporte reflejaba que la mayor parte de los incendios se daban en áreas protegidas, territorios indígenas, reservas forestales y tierras fiscales, evidenciando una presión por la tierra.​\n"
     ]
    }
   ],
   "source": [
    "link = \"https://eldeber.com.bo/santa-cruz/solo-en-un-mes-se-quemaron-casi-3-millones-de-hectareas-en-santa-cruz_387101\"\n",
    "link_text = extract_text(link)\n",
    "print(link_text)\n"
   ]
  },
  {
   "cell_type": "code",
   "execution_count": null,
   "metadata": {},
   "outputs": [],
   "source": []
  },
  {
   "cell_type": "code",
   "execution_count": 17,
   "metadata": {},
   "outputs": [],
   "source": [
    "doc2 = nlp(link_text)"
   ]
  },
  {
   "cell_type": "code",
   "execution_count": 19,
   "metadata": {},
   "outputs": [],
   "source": [
    "entities = [(ent.text, ent.label_) for ent in doc2.ents]\n",
    "\n",
    "freq = {}\n",
    "for ent in entities:\n",
    "    if ent[1] == \"LOC\":\n",
    "        if ent[0] in freq:\n",
    "            freq[ent[0]] += 1\n",
    "        else:\n",
    "            freq[ent[0]] = 1\n",
    "sfreq = sorted(freq.items(), key=lambda x: x[1], reverse=True)"
   ]
  },
  {
   "cell_type": "code",
   "execution_count": 20,
   "metadata": {},
   "outputs": [
    {
     "name": "stdout",
     "output_type": "stream",
     "text": [
      "Santa Cruz: 4\n",
      "Agua: 3\n",
      "Santa Cruz de la Sierra: 2\n",
      "Gobernación de Santa Cruz: 2\n",
      "Urubichá: 2\n",
      "Sentinel: 1\n",
      "Ministerio de Medio Ambiente: 1\n",
      "San Ignacio: 1\n",
      "Concepción: 1\n",
      "San Rafael: 1\n",
      "Ascensión: 1\n",
      "ConfirmaciónAnte: 1\n",
      "EL DEBER: 1\n",
      "COED Departamental: 1\n",
      "departamento de Santa Cruz: 1\n",
      "Beni: 1\n",
      "Bolivia: 1\n",
      "Gobierno central: 1\n",
      "Admitió: 1\n",
      "Tierras: 1\n",
      "Viru Viru: 1\n",
      "Naabol: 1\n",
      "América: 1\n",
      "Tierra: 1\n",
      "ministro de Medio Ambiente: 1\n",
      "Chiquitania: 1\n",
      "Asimismo: 1\n"
     ]
    },
    {
     "ename": "",
     "evalue": "",
     "output_type": "error",
     "traceback": [
      "\u001b[1;31mThe Kernel crashed while executing code in the current cell or a previous cell. \n",
      "\u001b[1;31mPlease review the code in the cell(s) to identify a possible cause of the failure. \n",
      "\u001b[1;31mClick <a href='https://aka.ms/vscodeJupyterKernelCrash'>here</a> for more info. \n",
      "\u001b[1;31mView Jupyter <a href='command:jupyter.viewOutput'>log</a> for further details."
     ]
    }
   ],
   "source": [
    "for ent, f in sfreq:\n",
    "    print(f\"{ent}: {f}\")"
   ]
  }
 ],
 "metadata": {
  "kernelspec": {
   "display_name": ".venv",
   "language": "python",
   "name": "python3"
  },
  "language_info": {
   "codemirror_mode": {
    "name": "ipython",
    "version": 3
   },
   "file_extension": ".py",
   "mimetype": "text/x-python",
   "name": "python",
   "nbconvert_exporter": "python",
   "pygments_lexer": "ipython3",
   "version": "3.12.4"
  }
 },
 "nbformat": 4,
 "nbformat_minor": 2
}
