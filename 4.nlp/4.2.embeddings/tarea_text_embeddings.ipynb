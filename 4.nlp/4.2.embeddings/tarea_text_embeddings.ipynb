{
 "cells": [
  {
   "cell_type": "code",
   "execution_count": 1,
   "metadata": {},
   "outputs": [],
   "source": [
    "import requests\n",
    "from bs4 import BeautifulSoup\n",
    "def extract_text(url: str) -> str:\n",
    "    response = requests.get(url)\n",
    "    soup = BeautifulSoup(response.text, \"html.parser\")\n",
    "    body = soup.find_all(\"div\", class_=\"text-editor\")\n",
    "    text_elements = [element.get_text() for element in body]\n",
    "    return text_elements[0]"
   ]
  },
  {
   "cell_type": "code",
   "execution_count": 3,
   "metadata": {},
   "outputs": [
    {
     "name": "stdout",
     "output_type": "stream",
     "text": [
      "Pais: 10\n",
      "Deportes: 10\n",
      "Economia: 10\n"
     ]
    }
   ],
   "source": [
    "pais = [\n",
    "    'https://eldeber.com.bo/pais/fiscalia-apelara-la-sentencia-de-murillo-lopez-y-otros-involucrados-en-el-caso-gases-lacrimogenos_387290',\n",
    "    'https://eldeber.com.bo/pais/en-medio-del-escandalo-de-evo-diputado-evista-presenta-a-una-joven-que-asegura-haber-tenido-un-roman_387277',\n",
    "    'https://eldeber.com.bo/pais/defensa-de-anez-ya-acudio-a-la-cidh-y-ahora-exige-un-juicio-de-responsabilidades_387219',\n",
    "    'https://eldeber.com.bo/pais/campesinos-de-adepcoca-expulsan-a-lizette-torrez-y-a-su-directorio-nombran-un-comite-ad-hoc_387202',\n",
    "    'https://eldeber.com.bo/pais/presidente-arce-instruye-la-militarizacion-de-las-fronteras-de-bolivia_387145',\n",
    "    'https://eldeber.com.bo/cochabamba/pelea-entre-reos-en-el-penal-de-el-abra-termina-con-un-muerto_387121',\n",
    "    'https://eldeber.com.bo/pais/doria-medina-anuncia-que-presentara-un-plan-de-soluciones-a-la-crisis-integral-de-bolivia_387120',\n",
    "    'https://eldeber.com.bo/pais/branko-marinkovic-creo-que-la-mayoria-de-las-estatales-se-deben-privatizar_387089',\n",
    "    'https://eldeber.com.bo/pais/judiciales-hay-8-candidatos-con-el-cargo-asegurado-y-van-11-renuncias_387087',\n",
    "    'https://eldeber.com.bo/pais/jeanine-anez-exige-su-inmediata-libertad-tras-la-confesion-de-evo-morales_387096',\n",
    "]\n",
    "deportes = [\n",
    "    'https://eldeber.com.bo/futbol/la-verde-que-jugadores-de-la-presente-convocatoria-fueron-parte-del-ultimo-partido-ante-colombia-en-_387270',\n",
    "    'https://eldeber.com.bo/tenis/murkel-dellien-eliminado-en-primera-ronda-del-challenger-de-villa-maria_387303',\n",
    "    'https://eldeber.com.bo/futbol/el-gramado-de-villa-ingenio-esta-en-excelentes-condiciones_387250',\n",
    "    'https://eldeber.com.bo/futbol/la-final-de-la-copa-sudamericana-2024-se-jugara-en-asuncion-paraguay_387294',\n",
    "    'https://eldeber.com.bo/futbol/argentina-vencio-a-venezuela-y-hubo-empate-entre-brasil-y-uruguay-en-el-sub-15_387209',\n",
    "    'https://eldeber.com.bo/futbol/vinicius-se-sumo-a-las-bajas-de-la-seleccion-brasilena_387183',\n",
    "    'https://eldeber.com.bo/multideportivo/cordova-cre-petrolero-y-adutoys-clasificaron-a-cuartos-en-la-liga-nacional-de-futsal_387206',\n",
    "    'https://eldeber.com.bo/futbol/volvio-el-respeto-a-la-altura-villa-ingenio-la-nueva-casa-de-la-seleccion-boliviana_387119',\n",
    "    'https://eldeber.com.bo/futbol/la-influencia-de-miguel-terceros-en-la-seleccion_387102',\n",
    "    'https://eldeber.com.bo/futbol/jugadores-colombianos-se-incorporan-a-la-concentracion-en-cochabamba-videos_387052',\n",
    "]\n",
    "economia = [\n",
    "    'https://eldeber.com.bo/economia/notifican-a-comunarios-de-tariquia-por-impedir-ingreso-de-ypfb_387284',\n",
    "    'https://eldeber.com.bo/dinero/la-venta-externa-de-manufactura-retorno-a-los-niveles-de-2021_387203',\n",
    "    'https://eldeber.com.bo/dinero/monica-cabrera-debe-haber-incentivos-para-que-la-inversion-extranjera-se-sienta-segura_387179',\n",
    "    'https://eldeber.com.bo/dinero/carniceros-suspenden-paro-y-fijan-precios-entre-bs-32-y-45-el-kilo-para-el-consumidor-final_387224',\n",
    "    'https://eldeber.com.bo/economia/garantizan-produccion-y-abastecimiento-de-carne-de-pollo-y-cerdo-tras-reunion-del-gobierno-con-produ_387201',\n",
    "    'https://eldeber.com.bo/economia/senales-de-recesion-creditos-de-vivienda-de-interes-social-aumentan-un-04-en-el-ultimo-ano_387154',\n",
    "    'https://eldeber.com.bo/economia/carniceros-amplian-paro-de-72-horas-a-indefinido-por-el-alza-del-precio-del-kilo-gancho-de-la-carne-_387081',\n",
    "    'https://eldeber.com.bo/economia/carniceros-van-a-paro-indefinido-y-suben-precios-de-varios-productos_387093',\n",
    "    'https://eldeber.com.bo/economia/la-anh-incrementa-volumen-para-atender-demanda-de-combustible-y-reducir-colas-en-surtidores_387064',\n",
    "    'https://eldeber.com.bo/economia/a-pesar-de-las-largas-colas-en-surtidores-la-anh-asegura-normalizacion-en-la-venta-de-combustible_387038',\n",
    "]\n",
    "print('Pais:', len(pais))\n",
    "print('Deportes:', len(deportes))\n",
    "print('Economia:', len(economia))"
   ]
  },
  {
   "cell_type": "code",
   "execution_count": 15,
   "metadata": {},
   "outputs": [],
   "source": [
    "urls = pais + deportes + economia\n",
    "texts = [extract_text(url) for url in urls]"
   ]
  },
  {
   "cell_type": "code",
   "execution_count": 16,
   "metadata": {},
   "outputs": [
    {
     "name": "stdout",
     "output_type": "stream",
     "text": [
      "2305\n",
      "3613\n",
      "4907\n",
      "2262\n",
      "1859\n",
      "2565\n",
      "1192\n",
      "7446\n",
      "5976\n",
      "2433\n",
      "2068\n",
      "1154\n",
      "2222\n",
      "3736\n",
      "1954\n",
      "1201\n",
      "2218\n",
      "2388\n",
      "3684\n",
      "3574\n",
      "1328\n",
      "3459\n",
      "4947\n",
      "2670\n",
      "3783\n",
      "2800\n",
      "2283\n",
      "3632\n",
      "3353\n",
      "4041\n"
     ]
    }
   ],
   "source": [
    "for text in texts:\n",
    "    print(len(text))"
   ]
  },
  {
   "cell_type": "code",
   "execution_count": 5,
   "metadata": {},
   "outputs": [],
   "source": [
    "import spacy\n",
    "import numpy as np"
   ]
  },
  {
   "cell_type": "code",
   "execution_count": 6,
   "metadata": {},
   "outputs": [],
   "source": [
    "def extract_embedding(text: str, nlp: spacy.Language) -> np.ndarray:\n",
    "    doc = nlp(text)\n",
    "    return doc.vector"
   ]
  },
  {
   "cell_type": "code",
   "execution_count": 17,
   "metadata": {},
   "outputs": [],
   "source": [
    "import spacy\n",
    "nlp = spacy.load(\"es_core_news_md\")\n",
    "\n",
    "embeddings = np.array([extract_embedding(text, nlp) for text in texts])"
   ]
  },
  {
   "cell_type": "code",
   "execution_count": 18,
   "metadata": {},
   "outputs": [],
   "source": [
    "from sklearn.decomposition import PCA\n",
    "import matplotlib.pyplot as plt"
   ]
  },
  {
   "cell_type": "code",
   "execution_count": 34,
   "metadata": {},
   "outputs": [],
   "source": [
    "color = ['r' for i in pais] + ['b' for i in deportes] + ['g' for i in economia]"
   ]
  },
  {
   "cell_type": "code",
   "execution_count": 23,
   "metadata": {},
   "outputs": [],
   "source": [
    "pca2 = PCA(n_components=2)\n",
    "embeddings_2d = pca2.fit_transform(embeddings)"
   ]
  },
  {
   "cell_type": "code",
   "execution_count": 35,
   "metadata": {},
   "outputs": [
    {
     "data": {
      "image/png": "[encoded data removed]",
      "text/plain": [
       "<Figure size 640x480 with 1 Axes>"
      ]
     },
     "metadata": {},
     "output_type": "display_data"
    }
   ],
   "source": [
    "lines = plt.scatter(embeddings_2d[:,0], embeddings_2d[:,1],c=color)\n",
    "plt.show()"
   ]
  },
  {
   "cell_type": "code",
   "execution_count": 36,
   "metadata": {},
   "outputs": [
    {
     "data": {
      "text/plain": [
       "(30, 300)"
      ]
     },
     "execution_count": 36,
     "metadata": {},
     "output_type": "execute_result"
    }
   ],
   "source": [
    "embeddings.shape"
   ]
  },
  {
   "cell_type": "code",
   "execution_count": 37,
   "metadata": {},
   "outputs": [],
   "source": [
    "from sklearn.metrics.pairwise import cosine_similarity\n",
    "\n",
    "def find_similarity(emb1: np.ndarray, emb2: np.ndarray) -> float:\n",
    "    return cosine_similarity([emb1], [emb2])[0][0]"
   ]
  },
  {
   "cell_type": "code",
   "execution_count": 39,
   "metadata": {},
   "outputs": [
    {
     "data": {
      "text/plain": [
       "np.float32(0.9536683)"
      ]
     },
     "execution_count": 39,
     "metadata": {},
     "output_type": "execute_result"
    }
   ],
   "source": [
    "find_similarity(embeddings[3], embeddings[2])"
   ]
  },
  {
   "cell_type": "code",
   "execution_count": 49,
   "metadata": {},
   "outputs": [],
   "source": [
    "def find_top_similar(emb: int, embeddings: np.ndarray, n: int) -> list:\n",
    "    similarities = [find_similarity(emb, embeddings[i]) for i in range(embeddings.shape[0])]\n",
    "    return np.argsort(similarities)[::-1][1:n+1]"
   ]
  },
  {
   "cell_type": "code",
   "execution_count": 50,
   "metadata": {},
   "outputs": [
    {
     "data": {
      "text/plain": [
       "array([20,  8,  3,  2,  5])"
      ]
     },
     "execution_count": 50,
     "metadata": {},
     "output_type": "execute_result"
    }
   ],
   "source": [
    "find_top_similar(embeddings[0], embeddings, 5)"
   ]
  },
  {
   "cell_type": "code",
   "execution_count": 51,
   "metadata": {},
   "outputs": [],
   "source": [
    "def find_similar_news(text: str, embs: np.ndarray, n: int) -> list:\n",
    "    emb = extract_embedding(text, nlp)\n",
    "    indexes = find_top_similar(emb, embs, n)\n",
    "    print(indexes)\n",
    "    return [urls[i] for i in indexes]"
   ]
  },
  {
   "cell_type": "code",
   "execution_count": 53,
   "metadata": {},
   "outputs": [
    {
     "name": "stdout",
     "output_type": "stream",
     "text": [
      "[ 9  5 20]\n"
     ]
    },
    {
     "data": {
      "text/plain": [
       "['https://eldeber.com.bo/pais/jeanine-anez-exige-su-inmediata-libertad-tras-la-confesion-de-evo-morales_387096',\n",
       " 'https://eldeber.com.bo/cochabamba/pelea-entre-reos-en-el-penal-de-el-abra-termina-con-un-muerto_387121',\n",
       " 'https://eldeber.com.bo/economia/notifican-a-comunarios-de-tariquia-por-impedir-ingreso-de-ypfb_387284']"
      ]
     },
     "execution_count": 53,
     "metadata": {},
     "output_type": "execute_result"
    }
   ],
   "source": [
    "test_news = '''\n",
    "8 de octubre (Urgente.bo)- El presidente de la Cámara de Senadores, Andrónico Rodríguez, negó este martes que haya buscado impulsar un proyecto de ley que plantea eliminar el delito de estupro.\n",
    "\n",
    "“Hay supuestas denuncias, declaraciones y afirmaciones que son falsas. Yo en ningún momento solicité o le pedí al presidente de la Cámara de Diputados, mediante una carta para tratar una ley y eliminar el delito de estupro, toralmente falso”, expuso Andrónico en conferencia de prensa.\n",
    "\n",
    "Andrónico 8 de.jpg\n",
    "\n",
    "En pasados días, circuló una nota firmada por Andrónico en el que presuntamente solicitaba a la Cámara de Diputados considerar el proyecto de ley 010, que plantea cambiar el tipo penal de estupro por violencia sexual.\n",
    "\n",
    "Andrónico indicó que los medios de comunicación se apoyaron en la simple nota de remisión, así como de las más de las 300 leyes aprobadas y sancionadas.\n",
    "\n",
    "“Es una simple nota de remisión, no es una carta de pedido o solicitud para tratar una ley y eliminar el delito de estupro, falso”, dijo el titular de Senadores.\n",
    "\n",
    "\n",
    "Indicó que el proyecto de ley trata del mes de abril, cuando se lo puso a consideración y fue aprobado, por lo tanto, a través de una nota firmada por él, se lo remitió a Diputados. Dijo que la proyectista es la senadora de CC, Andra Barrientos. \n",
    "\n",
    "La presunta intención de Andrónico tomó fuerza en medio de denuncias de estupro contra el expresidente Evo Morales.\n",
    "'''\n",
    "\n",
    "find_similar_news(test_news, embeddings, 3)"
   ]
  }
 ],
 "metadata": {
  "kernelspec": {
   "display_name": ".venv",
   "language": "python",
   "name": "python3"
  },
  "language_info": {
   "codemirror_mode": {
    "name": "ipython",
    "version": 3
   },
   "file_extension": ".py",
   "mimetype": "text/x-python",
   "name": "python",
   "nbconvert_exporter": "python",
   "pygments_lexer": "ipython3",
   "version": "3.12.4"
  }
 },
 "nbformat": 4,
 "nbformat_minor": 2
}
