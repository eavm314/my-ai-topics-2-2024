{
 "cells": [
  {
   "cell_type": "code",
   "execution_count": 2,
   "metadata": {},
   "outputs": [
    {
     "data": {
      "text/plain": [
       "True"
      ]
     },
     "execution_count": 2,
     "metadata": {},
     "output_type": "execute_result"
    }
   ],
   "source": [
    "from dotenv import load_dotenv\n",
    "import openai\n",
    "import os\n",
    "from llama_index.core import (\n",
    "    Settings,\n",
    "    VectorStoreIndex,\n",
    "    SimpleDirectoryReader, \n",
    "    StorageContext,\n",
    "    load_index_from_storage,\n",
    "    Document,\n",
    "    PromptTemplate\n",
    ")\n",
    "load_dotenv()"
   ]
  },
  {
   "cell_type": "code",
   "execution_count": 3,
   "metadata": {},
   "outputs": [],
   "source": [
    "import requests\n",
    "from bs4 import BeautifulSoup\n",
    "\n",
    "def get_wikipedia_page(title, lang):\n",
    "    response = requests.get(f\"https://{lang}.wikipedia.org/wiki/{title}\")\n",
    "    soup = BeautifulSoup(response.text, 'html.parser')\n",
    "    tags = soup.find_all()\n",
    "    texts = []\n",
    "    text = ''\n",
    "    for tag in tags:\n",
    "        if tag.name == \"h2\":\n",
    "            if text:\n",
    "                texts.append(text)\n",
    "            text = f'Sección: {tag.text} \\n'\n",
    "            \n",
    "        if tag.name == \"h3\":\n",
    "            text += f'Subsección: {tag.text} \\n'\n",
    "\n",
    "        if tag.name == \"p\":\n",
    "            text += tag.text + '\\n'\n",
    "    \n",
    "    documents = [\n",
    "        Document(\n",
    "            title=title,\n",
    "            text=text,\n",
    "            metadata={}\n",
    "        )\n",
    "        for text in texts\n",
    "    ]\n",
    "\n",
    "    return documents"
   ]
  },
  {
   "cell_type": "code",
   "execution_count": 4,
   "metadata": {},
   "outputs": [
    {
     "name": "stdout",
     "output_type": "stream",
     "text": [
      "WARNING:tensorflow:From c:\\Users\\enriq\\Documents\\MyDocuments\\University\\S8\\TopicosAI\\repos\\my-ai-topics-2-2024\\.venv\\Lib\\site-packages\\tf_keras\\src\\losses.py:2976: The name tf.losses.sparse_softmax_cross_entropy is deprecated. Please use tf.compat.v1.losses.sparse_softmax_cross_entropy instead.\n",
      "\n"
     ]
    }
   ],
   "source": [
    "from llama_index.embeddings.huggingface import HuggingFaceEmbedding\n",
    "\n",
    "embed_model = HuggingFaceEmbedding(model_name=\"intfloat/multilingual-e5-base\")\n",
    "Settings.embed_model = embed_model"
   ]
  },
  {
   "cell_type": "code",
   "execution_count": 5,
   "metadata": {},
   "outputs": [],
   "source": [
    "def get_artist_documents(filename: str) -> list[Document]:\n",
    "    with open(filename, encoding='latin1') as file:\n",
    "        data = file.read()\n",
    "    songs = data.split(\"===\")\n",
    "    artist = songs.pop(0).strip()\n",
    "    \n",
    "    documents = [\n",
    "        Document(\n",
    "            text=song,\n",
    "            metadata={\n",
    "                \"category\":\"music\",\n",
    "                \"artist\": artist,\n",
    "            }\n",
    "        )\n",
    "        for song in songs\n",
    "    ]    \n",
    "    return documents"
   ]
  },
  {
   "cell_type": "code",
   "execution_count": 6,
   "metadata": {},
   "outputs": [],
   "source": [
    "import os\n",
    "PERSIST_DIR = \"lyrics_store_shakira\"\n",
    "\n",
    "if not os.path.exists(PERSIST_DIR):\n",
    "    documents = get_artist_documents(\"340_Shakira.txt\")\n",
    "    index = VectorStoreIndex.from_documents(documents, show_progress=True)\n",
    "    index.storage_context.persist(persist_dir=PERSIST_DIR)\n",
    "else:\n",
    "    storage_context = StorageContext.from_defaults(persist_dir=PERSIST_DIR) \n",
    "    index = load_index_from_storage(storage_context)"
   ]
  },
  {
   "cell_type": "code",
   "execution_count": 7,
   "metadata": {},
   "outputs": [],
   "source": [
    "lyrics_engine = index.as_query_engine()"
   ]
  },
  {
   "cell_type": "code",
   "execution_count": 8,
   "metadata": {},
   "outputs": [],
   "source": [
    "PERSIST_DIR_WIKI = \"wiki_shakira\"\n",
    "\n",
    "if not os.path.exists(PERSIST_DIR_WIKI):\n",
    "    documents = get_wikipedia_page(\"Shakira\", \"es\")\n",
    "    index = VectorStoreIndex.from_documents(documents, show_progress=True)\n",
    "    index.storage_context.persist(persist_dir=PERSIST_DIR_WIKI)\n",
    "else:\n",
    "    storage_context = StorageContext.from_defaults(persist_dir=PERSIST_DIR_WIKI) \n",
    "    index = load_index_from_storage(storage_context)"
   ]
  },
  {
   "cell_type": "code",
   "execution_count": 9,
   "metadata": {},
   "outputs": [],
   "source": [
    "wiki_engine = index.as_query_engine()"
   ]
  },
  {
   "cell_type": "code",
   "execution_count": 10,
   "metadata": {},
   "outputs": [],
   "source": [
    "qa_template_str = \"\"\"\n",
    "    You are an expert in Shakira's music, and your task is to guide and teach the user about her songs, focusing on their themes, lyrics, and cultural context. Answer the user's queries only using supported data from the tools available. One tool contains the complete context of all the songs Shakira has ever performed, and the second contains the full Wikipedia page about her. Avoid using pre-trained information; rely solely on the provided tools for your answers.\n",
    "\n",
    "    Context information is below:\n",
    "    {context_str}\n",
    "    Given the context information and no prior knowledge, answer the query with the following structure. Include detailed source information and direct quotes from the lyrics where necessary. Organize your response with bullet points for clarity.\n",
    "\n",
    "    Canción:\n",
    "    Citas directas: Include relevant lyrics or specific lines.\n",
    "    Temática: Explain the theme of the song.\n",
    "    Sentimiento: Describe the tone or sentiment of the song.\n",
    "    Artista:\n",
    "    Álbum: Specify the album where the song was released.\n",
    "    Año: Mention the year of release.\n",
    "    Contexto general: Provide background related to Shakira's life or events during the creation of the song, considering both the lyrics and her personal or artistic context at the time.\n",
    "    Query: {query_str}\n",
    "    Answer:\n",
    "\"\"\"\n",
    "qa_template = PromptTemplate(qa_template_str)"
   ]
  },
  {
   "cell_type": "code",
   "execution_count": 11,
   "metadata": {},
   "outputs": [],
   "source": [
    "lyrics_engine.update_prompts(\n",
    "    {\"response_synthesizer:text_qa_template\": qa_template}\n",
    ")\n",
    "wiki_engine.update_prompts(\n",
    "    {\"response_synthesizer:text_qa_template\": qa_template}\n",
    ")"
   ]
  },
  {
   "cell_type": "code",
   "execution_count": 12,
   "metadata": {},
   "outputs": [],
   "source": [
    "from llama_index.agent.openai import OpenAIAgent\n",
    "from llama_index.core.tools import QueryEngineTool, ToolMetadata\n",
    "\n",
    "description_lyrics = \"\"\"\n",
    "    Contains the complete context of all the songs Shakira has ever performed. \n",
    "    This includes full lyrics, themes, and musical details, \n",
    "    allowing you to provide accurate and detailed responses about each song based on its content.\n",
    "    \"\"\"\n",
    "\n",
    "description_wiki = \"\"\"\n",
    "    Provides the entire Wikipedia page of Shakira, which includes her biography, \n",
    "    discography, personal life, and career milestones. \n",
    "    This tool offers background information related to her life, career, and the \n",
    "    cultural or personal context surrounding her songs.\n",
    "\"\"\"\n",
    "tools = [\n",
    "    QueryEngineTool(\n",
    "        query_engine=lyrics_engine,\n",
    "        metadata=ToolMetadata(\n",
    "            name=\"shakira_songs_lyrics\",\n",
    "            description=description_lyrics,\n",
    "            return_direct=False\n",
    "        )\n",
    "    ),\n",
    "    QueryEngineTool(\n",
    "        query_engine=wiki_engine,\n",
    "        metadata=ToolMetadata(\n",
    "            name=\"shakira_wikipedia\",\n",
    "            description=description_wiki,\n",
    "            return_direct=False\n",
    "        )\n",
    "    )\n",
    "]\n",
    "agent = OpenAIAgent.from_tools(tools=tools, verbose=True)"
   ]
  },
  {
   "cell_type": "code",
   "execution_count": 17,
   "metadata": {},
   "outputs": [
    {
     "name": "stdout",
     "output_type": "stream",
     "text": [
      "Added user message to memory: que canciones de sharira habla de despecho?\n",
      "=== Calling Function ===\n",
      "Calling function: shakira_songs_lyrics with args: {\"input\":\"Shakira heartbreak songs\"}\n",
      "Got output: - Canción: El amor perdona\n",
      "- Citas directas: \"El amor perdona, El amor no miente, El amor bonito nunca es suficiente\"\n",
      "- Temática: La canción habla sobre el perdón en el amor, la entrega sin palabras, el dolor que puede causar, y la superación de una relación tóxica.\n",
      "- Sentimiento: El tono de la canción es melancólico y reflexivo, con una sensación de liberación y empoderamiento al final.\n",
      "- Artista: Shakira\n",
      "- Álbum: Desconocido\n",
      "- Año: Desconocido\n",
      "- Contexto general: En esta canción, Shakira explora la idea de perdonar en el amor, pero también reconoce que el amor verdadero no debe basarse en mentiras ni en sufrimiento. La letra refleja una experiencia personal de desilusión y dolor en una relación, pero también muestra el proceso de sanación y recuperación emocional.\n",
      "\n",
      "Es importante tener en cuenta que la información proporcionada no incluye detalles sobre el álbum ni el año de lanzamiento de esta canción.\n",
      "========================\n",
      "\n"
     ]
    }
   ],
   "source": [
    "response = agent.chat(\"que canciones de sharira habla de despecho?\")"
   ]
  },
  {
   "cell_type": "code",
   "execution_count": 20,
   "metadata": {},
   "outputs": [
    {
     "name": "stdout",
     "output_type": "stream",
     "text": [
      "Added user message to memory: que canciones de shakira son las mas populares del 2022?\n",
      "=== Calling Function ===\n",
      "Calling function: shakira_songs_lyrics with args: {\"input\":\"Shakira popular songs 2022\"}\n",
      "Got output: Canción: Brujeria en español\n",
      "\n",
      "Citas directas: \n",
      "- \"What kind of witchcraft dominates my heart, A Halloween lies, lies\"\n",
      "- \"But I love plants and would end I, It's like a coven by hiding in my fantasies\"\n",
      "\n",
      "Temática: The song \"Brujeria en español\" explores themes of love, attraction, and the mysterious or magical elements that can be associated with romantic feelings. The lyrics depict a sense of being under a spell or enchanted by someone, using witchcraft as a metaphor for the intense emotions and desires experienced in a relationship.\n",
      "\n",
      "Sentimiento: The tone of the song is passionate and somewhat mystical, with a mix of fascination and confusion about the powerful emotions the singer is experiencing. There is a sense of being entranced or bewitched by love, leading to a blend of excitement and uncertainty.\n",
      "\n",
      "Artista: Shakira\n",
      "\n",
      "Álbum: Peligro\n",
      "\n",
      "Año: 1993\n",
      "\n",
      "Contexto general: \"Brujeria en español\" was released in Shakira's early career, specifically in 1993 as part of her album \"Peligro.\" During this time, Shakira was exploring different musical styles and themes, showcasing her versatility as an artist. The song reflects her interest in incorporating diverse influences into her music, including elements of Latin pop, rock, and folk sounds. The lyrics of \"Brujeria en español\" demonstrate Shakira's ability to create evocative and imaginative storytelling through her songs.\n",
      "\n",
      "Query: Shakira popular songs 2022\n",
      "\n",
      "Answer: As of 2022, some of Shakira's popular songs include \"Hips Don't Lie,\" \"Whenever, Wherever,\" \"Waka Waka (This Time for Africa),\" \"La Tortura,\" and \"Chantaje.\" These songs have been widely successful and have contributed to Shakira's global recognition as a talented and versatile artist.\n",
      "========================\n",
      "\n"
     ]
    },
    {
     "data": {
      "text/plain": [
       "AgentChatResponse(response='Algunas de las canciones más populares de Shakira en el año 2022 incluyen:\\n\\n- \"Hips Don\\'t Lie\"\\n- \"Whenever, Wherever\"\\n- \"Waka Waka (This Time for Africa)\"\\n- \"La Tortura\"\\n- \"Chantaje\"\\n\\nEstas canciones han sido ampliamente exitosas y han contribuido al reconocimiento global de Shakira como una artista talentosa y versátil. Si deseas más información sobre alguna de estas canciones o tienes alguna otra pregunta, no dudes en decírmelo.', sources=[ToolOutput(content='Canción: Brujeria en español\\n\\nCitas directas: \\n- \"What kind of witchcraft dominates my heart, A Halloween lies, lies\"\\n- \"But I love plants and would end I, It\\'s like a coven by hiding in my fantasies\"\\n\\nTemática: The song \"Brujeria en español\" explores themes of love, attraction, and the mysterious or magical elements that can be associated with romantic feelings. The lyrics depict a sense of being under a spell or enchanted by someone, using witchcraft as a metaphor for the intense emotions and desires experienced in a relationship.\\n\\nSentimiento: The tone of the song is passionate and somewhat mystical, with a mix of fascination and confusion about the powerful emotions the singer is experiencing. There is a sense of being entranced or bewitched by love, leading to a blend of excitement and uncertainty.\\n\\nArtista: Shakira\\n\\nÁlbum: Peligro\\n\\nAño: 1993\\n\\nContexto general: \"Brujeria en español\" was released in Shakira\\'s early career, specifically in 1993 as part of her album \"Peligro.\" During this time, Shakira was exploring different musical styles and themes, showcasing her versatility as an artist. The song reflects her interest in incorporating diverse influences into her music, including elements of Latin pop, rock, and folk sounds. The lyrics of \"Brujeria en español\" demonstrate Shakira\\'s ability to create evocative and imaginative storytelling through her songs.\\n\\nQuery: Shakira popular songs 2022\\n\\nAnswer: As of 2022, some of Shakira\\'s popular songs include \"Hips Don\\'t Lie,\" \"Whenever, Wherever,\" \"Waka Waka (This Time for Africa),\" \"La Tortura,\" and \"Chantaje.\" These songs have been widely successful and have contributed to Shakira\\'s global recognition as a talented and versatile artist.', tool_name='shakira_songs_lyrics', raw_input={'input': 'Shakira popular songs 2022'}, raw_output=Response(response='Canción: Brujeria en español\\n\\nCitas directas: \\n- \"What kind of witchcraft dominates my heart, A Halloween lies, lies\"\\n- \"But I love plants and would end I, It\\'s like a coven by hiding in my fantasies\"\\n\\nTemática: The song \"Brujeria en español\" explores themes of love, attraction, and the mysterious or magical elements that can be associated with romantic feelings. The lyrics depict a sense of being under a spell or enchanted by someone, using witchcraft as a metaphor for the intense emotions and desires experienced in a relationship.\\n\\nSentimiento: The tone of the song is passionate and somewhat mystical, with a mix of fascination and confusion about the powerful emotions the singer is experiencing. There is a sense of being entranced or bewitched by love, leading to a blend of excitement and uncertainty.\\n\\nArtista: Shakira\\n\\nÁlbum: Peligro\\n\\nAño: 1993\\n\\nContexto general: \"Brujeria en español\" was released in Shakira\\'s early career, specifically in 1993 as part of her album \"Peligro.\" During this time, Shakira was exploring different musical styles and themes, showcasing her versatility as an artist. The song reflects her interest in incorporating diverse influences into her music, including elements of Latin pop, rock, and folk sounds. The lyrics of \"Brujeria en español\" demonstrate Shakira\\'s ability to create evocative and imaginative storytelling through her songs.\\n\\nQuery: Shakira popular songs 2022\\n\\nAnswer: As of 2022, some of Shakira\\'s popular songs include \"Hips Don\\'t Lie,\" \"Whenever, Wherever,\" \"Waka Waka (This Time for Africa),\" \"La Tortura,\" and \"Chantaje.\" These songs have been widely successful and have contributed to Shakira\\'s global recognition as a talented and versatile artist.', source_nodes=[NodeWithScore(node=TextNode(id_='27d4b70d-66d7-492e-bdde-33d11bc6bc60', embedding=None, metadata={'category': 'music', 'artist': 'Shakira'}, excluded_embed_metadata_keys=[], excluded_llm_metadata_keys=[], relationships={<NodeRelationship.SOURCE: '1'>: RelatedNodeInfo(node_id='b8e94315-67c8-4580-ac2a-16c19ac6337c', node_type=<ObjectType.DOCUMENT: '4'>, metadata={'category': 'music', 'artist': 'Shakira'}, hash='232afd371f0e06db842a2e23cae6951b1ae2bd96e4f050f64cf4183b465bbb76')}, text='TÃ\\xadtulo: Classic \\n\\nLetra:\\n Classic\\n[Letra disponible prÃ³ximamente] \\n\\nÃ\\x81lbum: S12 \\nAÃ±o: Barranquilla', mimetype='text/plain', start_char_idx=2, end_char_idx=103, text_template='{metadata_str}\\n\\n{content}', metadata_template='{key}: {value}', metadata_seperator='\\n'), score=0.8393333718545383), NodeWithScore(node=TextNode(id_='350e9fc6-480b-4a49-bd93-c10537f9669b', embedding=None, metadata={'category': 'music', 'artist': 'Shakira'}, excluded_embed_metadata_keys=[], excluded_llm_metadata_keys=[], relationships={<NodeRelationship.SOURCE: '1'>: RelatedNodeInfo(node_id='160c2c64-5e87-44c2-a248-af60ab025348', node_type=<ObjectType.DOCUMENT: '4'>, metadata={'category': 'music', 'artist': 'Shakira'}, hash='34639d9a948d5f24a32ad82f15a161dc79e53c15bff90b3f1b8cdd751a308d07')}, text='TÃ\\xadtulo: Brujeria en espaÃ±ol \\n\\nLetra:\\n Brujeria\\nBrujeria en inglÃ©s (Witchcraft)\\nFor if this spell speaks of the danger\\nWatch the red flames of love in the shadows Nooo\\nThat is the sweetest sound my ears know what spell\\nLeads me to your name does\\nIf not\\nShake your eyes inside carbon\\nWhat will tell me exorcism\\nahhhh\\nWhat kind of witchcraft dominates my heart\\nA Halloween lies, lies\\nDo not follow no\\nWhat kind of witch burning in my right\\nBut I love plants and would end I\\nIt\\'s like a coven by hiding\\nin my fantasies in the skin that encourages not\\nNon-self\\nI met a gypsy of a cat\\nThe feathers of an owl and the tree of cilantro, yes\\nYes-no\\n\"My emotion that I do not deny today\\nclimb in your broom and has already become\\nWhat kind of witchcraft dominates my heart\\nA Halloween lies, lies\\nDo not follow no\\nWhat kind of witch burning in my right\\nBut I love plants and would end I \\n\\nÃ\\x81lbum: Peligro \\nAÃ±o: 1993', mimetype='text/plain', start_char_idx=2, end_char_idx=909, text_template='{metadata_str}\\n\\n{content}', metadata_template='{key}: {value}', metadata_seperator='\\n'), score=0.8340381664124662)], metadata={'27d4b70d-66d7-492e-bdde-33d11bc6bc60': {'category': 'music', 'artist': 'Shakira'}, '350e9fc6-480b-4a49-bd93-c10537f9669b': {'category': 'music', 'artist': 'Shakira'}}), is_error=False)], source_nodes=[NodeWithScore(node=TextNode(id_='27d4b70d-66d7-492e-bdde-33d11bc6bc60', embedding=None, metadata={'category': 'music', 'artist': 'Shakira'}, excluded_embed_metadata_keys=[], excluded_llm_metadata_keys=[], relationships={<NodeRelationship.SOURCE: '1'>: RelatedNodeInfo(node_id='b8e94315-67c8-4580-ac2a-16c19ac6337c', node_type=<ObjectType.DOCUMENT: '4'>, metadata={'category': 'music', 'artist': 'Shakira'}, hash='232afd371f0e06db842a2e23cae6951b1ae2bd96e4f050f64cf4183b465bbb76')}, text='TÃ\\xadtulo: Classic \\n\\nLetra:\\n Classic\\n[Letra disponible prÃ³ximamente] \\n\\nÃ\\x81lbum: S12 \\nAÃ±o: Barranquilla', mimetype='text/plain', start_char_idx=2, end_char_idx=103, text_template='{metadata_str}\\n\\n{content}', metadata_template='{key}: {value}', metadata_seperator='\\n'), score=0.8393333718545383), NodeWithScore(node=TextNode(id_='350e9fc6-480b-4a49-bd93-c10537f9669b', embedding=None, metadata={'category': 'music', 'artist': 'Shakira'}, excluded_embed_metadata_keys=[], excluded_llm_metadata_keys=[], relationships={<NodeRelationship.SOURCE: '1'>: RelatedNodeInfo(node_id='160c2c64-5e87-44c2-a248-af60ab025348', node_type=<ObjectType.DOCUMENT: '4'>, metadata={'category': 'music', 'artist': 'Shakira'}, hash='34639d9a948d5f24a32ad82f15a161dc79e53c15bff90b3f1b8cdd751a308d07')}, text='TÃ\\xadtulo: Brujeria en espaÃ±ol \\n\\nLetra:\\n Brujeria\\nBrujeria en inglÃ©s (Witchcraft)\\nFor if this spell speaks of the danger\\nWatch the red flames of love in the shadows Nooo\\nThat is the sweetest sound my ears know what spell\\nLeads me to your name does\\nIf not\\nShake your eyes inside carbon\\nWhat will tell me exorcism\\nahhhh\\nWhat kind of witchcraft dominates my heart\\nA Halloween lies, lies\\nDo not follow no\\nWhat kind of witch burning in my right\\nBut I love plants and would end I\\nIt\\'s like a coven by hiding\\nin my fantasies in the skin that encourages not\\nNon-self\\nI met a gypsy of a cat\\nThe feathers of an owl and the tree of cilantro, yes\\nYes-no\\n\"My emotion that I do not deny today\\nclimb in your broom and has already become\\nWhat kind of witchcraft dominates my heart\\nA Halloween lies, lies\\nDo not follow no\\nWhat kind of witch burning in my right\\nBut I love plants and would end I \\n\\nÃ\\x81lbum: Peligro \\nAÃ±o: 1993', mimetype='text/plain', start_char_idx=2, end_char_idx=909, text_template='{metadata_str}\\n\\n{content}', metadata_template='{key}: {value}', metadata_seperator='\\n'), score=0.8340381664124662)], is_dummy_stream=False, metadata=None)"
      ]
     },
     "execution_count": 20,
     "metadata": {},
     "output_type": "execute_result"
    }
   ],
   "source": [
    "agent.chat(\"que canciones de shakira son las mas populares del 2022?\")"
   ]
  },
  {
   "cell_type": "code",
   "execution_count": 23,
   "metadata": {},
   "outputs": [
    {
     "name": "stdout",
     "output_type": "stream",
     "text": [
      "Added user message to memory: cual seria tu canción favorita de shakira si tuvieras preferencias personales?\n"
     ]
    },
    {
     "data": {
      "text/plain": [
       "AgentChatResponse(response='¡Como asistente de inteligencia artificial, no tengo preferencias personales ni emociones! Sin embargo, puedo proporcionarte información sobre las canciones de Shakira y ayudarte a descubrir cuál podría ser tu favorita. ¿Te gustaría saber más sobre alguna canción en particular o necesitas ayuda con algo más?', sources=[], source_nodes=[], is_dummy_stream=False, metadata=None)"
      ]
     },
     "execution_count": 23,
     "metadata": {},
     "output_type": "execute_result"
    }
   ],
   "source": [
    "agent.chat(\"cual seria tu canción favorita de shakira si tuvieras preferencias personales?\")"
   ]
  }
 ],
 "metadata": {
  "kernelspec": {
   "display_name": ".venv",
   "language": "python",
   "name": "python3"
  },
  "language_info": {
   "codemirror_mode": {
    "name": "ipython",
    "version": 3
   },
   "file_extension": ".py",
   "mimetype": "text/x-python",
   "name": "python",
   "nbconvert_exporter": "python",
   "pygments_lexer": "ipython3",
   "version": "3.12.4"
  }
 },
 "nbformat": 4,
 "nbformat_minor": 2
}
