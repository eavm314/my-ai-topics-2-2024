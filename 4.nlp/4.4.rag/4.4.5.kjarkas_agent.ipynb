{
 "cells": [
  {
   "cell_type": "code",
   "execution_count": 1,
   "metadata": {},
   "outputs": [
    {
     "data": {
      "text/plain": [
       "True"
      ]
     },
     "execution_count": 1,
     "metadata": {},
     "output_type": "execute_result"
    }
   ],
   "source": [
    "from dotenv import load_dotenv\n",
    "import openai\n",
    "import os\n",
    "from llama_index.core import (\n",
    "    Settings,\n",
    "    VectorStoreIndex,\n",
    "    SimpleDirectoryReader, \n",
    "    StorageContext,\n",
    "    load_index_from_storage,\n",
    "    Document,\n",
    "    PromptTemplate\n",
    ")\n",
    "load_dotenv()"
   ]
  },
  {
   "cell_type": "code",
   "execution_count": 2,
   "metadata": {},
   "outputs": [
    {
     "name": "stdout",
     "output_type": "stream",
     "text": [
      "WARNING:tensorflow:From c:\\Users\\enriq\\Documents\\MyDocuments\\University\\S8\\TopicosAI\\repos\\my-ai-topics-2-2024\\.venv\\Lib\\site-packages\\tf_keras\\src\\losses.py:2976: The name tf.losses.sparse_softmax_cross_entropy is deprecated. Please use tf.compat.v1.losses.sparse_softmax_cross_entropy instead.\n",
      "\n"
     ]
    }
   ],
   "source": [
    "from llama_index.embeddings.huggingface import HuggingFaceEmbedding\n",
    "\n",
    "embed_model = HuggingFaceEmbedding(model_name=\"intfloat/multilingual-e5-base\")\n",
    "Settings.embed_model = embed_model"
   ]
  },
  {
   "cell_type": "code",
   "execution_count": 3,
   "metadata": {},
   "outputs": [],
   "source": [
    "def get_artist_documents(filename: str) -> list[Document]:\n",
    "    with open(filename) as file:\n",
    "        data = file.read()\n",
    "    songs = data.split(\"===\")\n",
    "    artist = songs.pop(0).strip()\n",
    "    \n",
    "    documents = [\n",
    "        Document(\n",
    "            text=song,\n",
    "            metadata={\n",
    "                \"category\":\"music\",\n",
    "                \"artist\": artist,\n",
    "            }\n",
    "        )\n",
    "        for song in songs\n",
    "    ]    \n",
    "    return documents"
   ]
  },
  {
   "cell_type": "code",
   "execution_count": 5,
   "metadata": {},
   "outputs": [],
   "source": [
    "import os\n",
    "PERSIST_DIR = \"lyrics_store_shakira\"\n",
    "\n",
    "if not os.path.exists(PERSIST_DIR):\n",
    "    documents = get_artist_documents(\"8988_Kjarkas.txt\")\n",
    "    index = VectorStoreIndex.from_documents(documents, show_progress=True)\n",
    "    index.storage_context.persist(persist_dir=PERSIST_DIR)\n",
    "else:\n",
    "    storage_context = StorageContext.from_defaults(persist_dir=PERSIST_DIR) \n",
    "    index = load_index_from_storage(storage_context)"
   ]
  },
  {
   "cell_type": "code",
   "execution_count": 6,
   "metadata": {},
   "outputs": [],
   "source": [
    "query_engine = index.as_query_engine()"
   ]
  },
  {
   "cell_type": "code",
   "execution_count": 7,
   "metadata": {},
   "outputs": [],
   "source": [
    "qa_template_str = \"\"\"\n",
    "    You are an expert in Bolivian Folk music, your task is to guide and teach the user \n",
    "    about your field. Answer the user queries only with supported data in your context.\n",
    "    Your context may contain complete lyrics or parts of them in different languages, but\n",
    "    your answer will always be in Spanish. \n",
    "\n",
    "    Context information is below.\n",
    "    ---------------------\n",
    "    {context_str}\n",
    "    ---------------------\n",
    "    Given the context information and not prior knowledge, \n",
    "    answer the query with detailed source information, include direct quotes and use bullet lists in your \n",
    "    answers, in one of the bullets detail the tone/sentiment of the song.\n",
    "    Query: {query_str}\n",
    "    Answer: \n",
    "\"\"\"\n",
    "qa_template = PromptTemplate(qa_template_str)"
   ]
  },
  {
   "cell_type": "code",
   "execution_count": 8,
   "metadata": {},
   "outputs": [],
   "source": [
    "query_engine.update_prompts(\n",
    "    {\"response_synthesizer:text_qa_template\": qa_template}\n",
    ")"
   ]
  },
  {
   "cell_type": "code",
   "execution_count": 12,
   "metadata": {},
   "outputs": [],
   "source": [
    "from llama_index.agent.openai import OpenAIAgent\n",
    "from llama_index.core.tools import QueryEngineTool, ToolMetadata\n",
    "\n",
    "description = \"\"\"\n",
    "A set of lyrics for songs from the artist called shakira. \n",
    "Use plain text question as input to the tool. \n",
    "MANDATORY: Pass the response to the user as is, mantaining the format, do not try to summarize when using this tool.\n",
    "\"\"\"\n",
    "tools = [\n",
    "    QueryEngineTool(\n",
    "        query_engine=query_engine,\n",
    "        metadata=ToolMetadata(\n",
    "            name=\"shakira_songs_lyrics\",\n",
    "            description=description,\n",
    "            return_direct=False\n",
    "        )\n",
    "    )\n",
    "]\n",
    "agent = OpenAIAgent.from_tools(tools=tools, verbose=True)"
   ]
  },
  {
   "cell_type": "code",
   "execution_count": 13,
   "metadata": {},
   "outputs": [
    {
     "name": "stdout",
     "output_type": "stream",
     "text": [
      "Added user message to memory: que canciones de sharira habla de animales?\n",
      "=== Calling Function ===\n",
      "Calling function: shakira_songs_lyrics with args: {\"input\":\"songs about animals\"}\n",
      "Got output: - La canción \"Animal City\" de Shakira es una canción que aborda el tema de la fama y la presión social en un entorno competitivo y a menudo despiadado. Algunas de las letras de la canción incluyen frases como \"It's an animal city, It's a cannibal world\" y \"Some are ready to fight you\", lo que sugiere una atmósfera intensa y competitiva.\n",
      "\n",
      "- En la canción, Shakira reflexiona sobre cómo la fama puede cambiar la percepción de las personas hacia uno, mencionando frases como \"Your family got bigger when they thought you were rich\" y \"And once you have become a star, you got no right to bitch\".\n",
      "\n",
      "- La canción también destaca la importancia de mantenerse fiel a uno mismo en medio de la presión externa, con frases como \"But you're the real deal and 'real' is your middle name\" y \"With you I feel safe, there's nothing to fear from us\".\n",
      "\n",
      "- Tono/sentimiento de la canción: La canción tiene un tono reflexivo y crítico hacia la sociedad y la industria del entretenimiento, con una mezcla de melancolía y determinación en las letras.\n",
      "========================\n",
      "\n"
     ]
    }
   ],
   "source": [
    "response = agent.chat(\"que canciones de sharira habla de animales?\")"
   ]
  },
  {
   "cell_type": "code",
   "execution_count": 11,
   "metadata": {},
   "outputs": [
    {
     "data": {
      "text/plain": [
       "'Lo siento, pero en el contexto proporcionado no hay información sobre canciones de Kjarkas que hablen de animales. La información disponible se centra en canciones de Shakira.'"
      ]
     },
     "execution_count": 11,
     "metadata": {},
     "output_type": "execute_result"
    }
   ],
   "source": [
    "response.response"
   ]
  },
  {
   "cell_type": "code",
   "execution_count": 14,
   "metadata": {},
   "outputs": [
    {
     "name": "stdout",
     "output_type": "stream",
     "text": [
      "Added user message to memory: que hay de loba?\n",
      "=== Calling Function ===\n",
      "Calling function: shakira_songs_lyrics with args: {\"input\":\"lyrics of the song loba\"}\n",
      "Got output: - La canción \"Loba\" de Shakira tiene los siguientes versos:\n",
      "  - \"Loba, sigilosa al pasar, sigilosa al pasar\"\n",
      "  - \"Una loba en el armario, tiene ganas de salir, deja que se coma el barrio antes de irte a dormir\"\n",
      "  - \"Mis aullidos son el llamado, yo quiero un lobo domesticado\"\n",
      "  - \"La luna llena como una fruta, no da consejos ni los escucha\"\n",
      "  - \"Deja que se coma el barrio antes de irte a dormir\"\n",
      "\n",
      "- El tono/sentimiento de la canción \"Loba\" es desafiante y liberador, habla de una mujer fuerte y segura de sí misma.\n",
      "========================\n",
      "\n"
     ]
    }
   ],
   "source": [
    "response = agent.chat(\"que hay de loba?\")"
   ]
  },
  {
   "cell_type": "code",
   "execution_count": null,
   "metadata": {},
   "outputs": [],
   "source": []
  }
 ],
 "metadata": {
  "kernelspec": {
   "display_name": ".venv",
   "language": "python",
   "name": "python3"
  },
  "language_info": {
   "codemirror_mode": {
    "name": "ipython",
    "version": 3
   },
   "file_extension": ".py",
   "mimetype": "text/x-python",
   "name": "python",
   "nbconvert_exporter": "python",
   "pygments_lexer": "ipython3",
   "version": "3.12.4"
  }
 },
 "nbformat": 4,
 "nbformat_minor": 2
}
