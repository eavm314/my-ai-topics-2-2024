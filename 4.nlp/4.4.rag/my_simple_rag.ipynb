{
 "cells": [
  {
   "cell_type": "code",
   "execution_count": 1,
   "metadata": {},
   "outputs": [],
   "source": [
    "from dotenv import load_dotenv\n",
    "import openai\n",
    "import os\n",
    "from llama_index.core import VectorStoreIndex, SimpleDirectoryReader\n",
    "load_dotenv()\n",
    "openai.api_key = os.getenv(\"OPENAI_API_KEY\")"
   ]
  },
  {
   "cell_type": "code",
   "execution_count": 3,
   "metadata": {},
   "outputs": [],
   "source": [
    "from llama_index.core import StorageContext, load_index_from_storage\n",
    "PERSIST_DIR = \"storage_me\"\n",
    "\n",
    "if not os.path.exists(PERSIST_DIR):\n",
    "    documents = SimpleDirectoryReader(\"data\").load_data()\n",
    "    index = VectorStoreIndex.from_documents(documents)\n",
    "    index.storage_context.persist(persist_dir=PERSIST_DIR)\n",
    "else:\n",
    "    storage_context = StorageContext.from_defaults(persist_dir=PERSIST_DIR) \n",
    "    index = load_index_from_storage(storage_context)"
   ]
  },
  {
   "cell_type": "code",
   "execution_count": 4,
   "metadata": {},
   "outputs": [
    {
     "data": {
      "text/plain": [
       "41"
      ]
     },
     "execution_count": 4,
     "metadata": {},
     "output_type": "execute_result"
    }
   ],
   "source": [
    "len(documents)"
   ]
  },
  {
   "cell_type": "code",
   "execution_count": 5,
   "metadata": {},
   "outputs": [],
   "source": [
    "query_engine = index.as_query_engine()\n",
    "def query(query: str):\n",
    "    response = query_engine.query(query)\n",
    "    return response"
   ]
  },
  {
   "cell_type": "code",
   "execution_count": 17,
   "metadata": {},
   "outputs": [
    {
     "name": "stdout",
     "output_type": "stream",
     "text": [
      "Enrique y José son amigos porque conectaron rápidamente debido a intereses similares y una pasión compartida por la tecnología y la programación. Además, han compartido numerosas experiencias académicas y personales a lo largo de los años, lo que ha fortalecido su amistad.\n",
      "[NodeWithScore(node=TextNode(id_='37f530f6-7fc6-45ea-a05d-52b929225dc4', embedding=None, metadata={'page_label': '27', 'file_name': 'TrabajoFinal.pdf', 'file_path': 'c:\\\\Users\\\\enriq\\\\Documents\\\\MyDocuments\\\\University\\\\S8\\\\TopicosAI\\\\repos\\\\my-ai-topics-2-2024\\\\4.nlp\\\\4.4.rag\\\\data\\\\TrabajoFinal.pdf', 'file_type': 'application/pdf', 'file_size': 2862857, 'creation_date': '2024-10-10', 'last_modified_date': '2024-06-25'}, excluded_embed_metadata_keys=['file_name', 'file_type', 'file_size', 'creation_date', 'last_modified_date', 'last_accessed_date'], excluded_llm_metadata_keys=['file_name', 'file_type', 'file_size', 'creation_date', 'last_modified_date', 'last_accessed_date'], relationships={<NodeRelationship.SOURCE: '1'>: RelatedNodeInfo(node_id='c9806df0-cd04-404f-9182-012f4bcda7c9', node_type=<ObjectType.DOCUMENT: '4'>, metadata={'page_label': '27', 'file_name': 'TrabajoFinal.pdf', 'file_path': 'c:\\\\Users\\\\enriq\\\\Documents\\\\MyDocuments\\\\University\\\\S8\\\\TopicosAI\\\\repos\\\\my-ai-topics-2-2024\\\\4.nlp\\\\4.4.rag\\\\data\\\\TrabajoFinal.pdf', 'file_type': 'application/pdf', 'file_size': 2862857, 'creation_date': '2024-10-10', 'last_modified_date': '2024-06-25'}, hash='44e6cb9ce655587d6bc6e0792dcdc6cd387d15ba6f0ece83a2a57b611e7c293f')}, text='26 \\n 2. Encuentra un socio  \\nJosé es un buen amigo que conocí en la universidad durante mi primer año. Desde el inicio, \\nconectamos rápidamente debido a intereses similares y una pasión compartida por la tecnología y \\nla programación. Nuestra amistad se ha fortalecido a lo largo de los años, y hemos compartido \\nnumerosas experiencias académicas y personales.  \\nA lo largo de nuestra carrera universitaria, José y yo hemos pasado muchas materias juntos. En \\ncasi todas las asignaturas, hemos formado equipos de trabajo, lo que ha demostrado ser una \\ncombinación muy eficaz. José es un compañero de equipo excepcional, si empre dispuesto a \\ncolaborar y aportar ideas innovadoras. Su enfoque meticuloso y su habilidad para resolver \\nproblemas complejos han sido esenciales en nuestros proyectos académicos.  \\nUno de los proyectos más significativos en los que trabajamos juntos fue nuestra participación en \\nel ICPC (International Collegiate Programming Contest). Formar equipo con José para esta \\ncompetencia fue una experiencia increíblemente enriquecedora. Pasamos  incontables horas \\nentrenando, resolviendo problemas de programación y afinando nuestras habilidades para el \\nconcurso. José siempre mostró un gran compromiso y una mentalidad competitiva que nos motivó \\na esforzarnos al máximo.  \\nAdemás de nuestra participación en el ICPC, también trabajamos juntos en una materia llamada \\nPráctica Interna. En esta asignatura, nuestro objetivo era desarrollar un sistema para la inscripción \\nde estudiantes en los clubes de la universidad  durante todo el semestre . Este proyecto nos permitió \\naplicar nuestros conocimientos de programación en un contexto práctico y real. José se encargó de \\nla arquitectura del sistema, asegurándose de que fuera eficiente y fácil de usar. Su capacidad para \\nentender las necesidades de l os usuarios y traducirlas en funcionalidades técnicas fue fundamental \\npara el éxito del proyecto.  \\nTrabajar con José ha sido una de las experiencias más gratificantes de mi vida universitaria. No \\nsolo es un excelente programador, sino también un amigo leal y confiable. Su ética de trabajo y su \\ndedicación son inspiradoras, y siempre ha estado dispuesto a  ayudar a sus compañeros en \\nmomentos de necesidad. Estoy agradecido por haberlo conocido y por todas las experiencias \\ncompartidas que han enriquecido mi vida académica y personal.', mimetype='text/plain', start_char_idx=2, end_char_idx=2372, text_template='{metadata_str}\\n\\n{content}', metadata_template='{key}: {value}', metadata_seperator='\\n'), score=0.8385949787870883), NodeWithScore(node=TextNode(id_='89027642-f079-464c-8454-e1772c488a1a', embedding=None, metadata={'page_label': '6', 'file_name': 'TrabajoFinal.pdf', 'file_path': 'c:\\\\Users\\\\enriq\\\\Documents\\\\MyDocuments\\\\University\\\\S8\\\\TopicosAI\\\\repos\\\\my-ai-topics-2-2024\\\\4.nlp\\\\4.4.rag\\\\data\\\\TrabajoFinal.pdf', 'file_type': 'application/pdf', 'file_size': 2862857, 'creation_date': '2024-10-10', 'last_modified_date': '2024-06-25'}, excluded_embed_metadata_keys=['file_name', 'file_type', 'file_size', 'creation_date', 'last_modified_date', 'last_accessed_date'], excluded_llm_metadata_keys=['file_name', 'file_type', 'file_size', 'creation_date', 'last_modified_date', 'last_accessed_date'], relationships={<NodeRelationship.SOURCE: '1'>: RelatedNodeInfo(node_id='0d6cc1a6-c99c-474e-8ddd-e75da81d9a1c', node_type=<ObjectType.DOCUMENT: '4'>, metadata={'page_label': '6', 'file_name': 'TrabajoFinal.pdf', 'file_path': 'c:\\\\Users\\\\enriq\\\\Documents\\\\MyDocuments\\\\University\\\\S8\\\\TopicosAI\\\\repos\\\\my-ai-topics-2-2024\\\\4.nlp\\\\4.4.rag\\\\data\\\\TrabajoFinal.pdf', 'file_type': 'application/pdf', 'file_size': 2862857, 'creation_date': '2024-10-10', 'last_modified_date': '2024-06-25'}, hash='532128bffe3012f153294e9d64d885e40d58def4340f11a52f891c73411035a2')}, text='5 \\n Cada asignatura tenía su propio profesor desde este grado. Algunos mantenían ese gusto por \\nenseñar, mientras que otros lo hacían de una manera poco disfrutable.  \\nComo siempre, Enrique no presentaba problemas en ninguna de ellas, salvo en algunos casos \\npuntuales, pero que no llegaron a afectar de manera negativa su desempeño académico.  \\nLas materias que despertaron un mayor interés en él fueron: Matemática, Química, Física y \\nComputación. Las mismas que en un futuro le ayudarían a decidir la carrera que elegiría para su \\nformación profesional.  \\nNuevos amigos . Los cuatro amigos que eran inseparables durante muchos años, finalmente fueron \\nasignados todos a diferentes paralelos. Solo podían verse durante los recreos, pero poco a poco se \\nfue debilitando ese contacto con el paso del tiempo.  \\nPara Enrique no era sencillo empezar a socializar con sus nuevos compañeros de aula. La mayoría \\neran desconocidos para él y los pocos que conocía nunca llegaron a ser realmente sus amigos.  \\nCon el tiempo, llegó a hablar con ellos  y algunos le cayeron muy bien ; sin embargo, no  volvió a \\ntener una gran amistad como la que tenía con  sus amigos de la Primaria. De todas formas, f ue \\nconociendo a muchas personas que se convirtieron en buenos amigos y amigas con los que tiene \\ncontacto hasta el día de hoy.', mimetype='text/plain', start_char_idx=2, end_char_idx=1323, text_template='{metadata_str}\\n\\n{content}', metadata_template='{key}: {value}', metadata_seperator='\\n'), score=0.8169150935933067)]\n"
     ]
    }
   ],
   "source": [
    "response = query(\"Porque Enrique y Jose son amigos?\")\n",
    "print(response.response)\n",
    "print(response.source_nodes)"
   ]
  },
  {
   "cell_type": "code",
   "execution_count": 14,
   "metadata": {},
   "outputs": [
    {
     "name": "stdout",
     "output_type": "stream",
     "text": [
      "Los temas favoritos de Enrique son los videojuegos y el piano, así como también disfruta de actividades recreativas como jugar videojuegos, tocar el piano, y participar en deportes como natación y tenis.\n",
      "[NodeWithScore(node=TextNode(id_='021d2482-b52b-49c3-aac3-acea6ad0b7f0', embedding=None, metadata={'page_label': '20', 'file_name': 'TrabajoFinal.pdf', 'file_path': 'c:\\\\Users\\\\enriq\\\\Documents\\\\MyDocuments\\\\University\\\\S8\\\\TopicosAI\\\\repos\\\\my-ai-topics-2-2024\\\\4.nlp\\\\4.4.rag\\\\data\\\\TrabajoFinal.pdf', 'file_type': 'application/pdf', 'file_size': 2862857, 'creation_date': '2024-10-10', 'last_modified_date': '2024-06-25'}, excluded_embed_metadata_keys=['file_name', 'file_type', 'file_size', 'creation_date', 'last_modified_date', 'last_accessed_date'], excluded_llm_metadata_keys=['file_name', 'file_type', 'file_size', 'creation_date', 'last_modified_date', 'last_accessed_date'], relationships={<NodeRelationship.SOURCE: '1'>: RelatedNodeInfo(node_id='8654390b-04e6-44dd-bafc-0f0ba2908a2d', node_type=<ObjectType.DOCUMENT: '4'>, metadata={'page_label': '20', 'file_name': 'TrabajoFinal.pdf', 'file_path': 'c:\\\\Users\\\\enriq\\\\Documents\\\\MyDocuments\\\\University\\\\S8\\\\TopicosAI\\\\repos\\\\my-ai-topics-2-2024\\\\4.nlp\\\\4.4.rag\\\\data\\\\TrabajoFinal.pdf', 'file_type': 'application/pdf', 'file_size': 2862857, 'creation_date': '2024-10-10', 'last_modified_date': '2024-06-25'}, hash='462e7eb561863a78ec33e15b27e3a8438f181e46f3c9c46afd72663c967892c8')}, text='19 \\n Este semestre  empezó bastante tranquilo, ya que Enrique p odía concentra rse comp letamente en \\nsus materias de la universidad, pero con el tiempo res tante también pudo realizar actividades que \\nle gustaban mucho, como jugar videojuegos y tocar el piano. Al mismo tiempo est aba en b úsqueda \\nde nuevas oportunidades como pasantía o trabaj os a medio tiempo  para ob tener aun más \\nexperiencia mientras termina la universidad.  \\n \\n1.6. Actividades recreativas  \\nA lo largo de todos los acontecimientos de su vida , también realizó muchas actividades fuera de l \\námbito  académico . Algunas de las cuáles son s us actividades favoritas hasta el dí a de hoy y con \\nlas que siente mucha felicidad.  \\nVideojuegos  \\nLos videojuegos fueron y siguen siendo una fuente importante de entretenimiento para Enrique, \\nestos lo acompañaron desde su infancia, cuando jugaba con sus hermanos en un Playstation. Con \\nel tiempo, también pudo disfrutar de juegos clásicos en computadora;  luego, llegaron los \\nsmartphones, trayendo consigo una nueva forma de jugar.  \\nHasta el día de hoy, le encanta jugar con sus hermanos y amigos, a través de distintas \\nplataformas y explorando diferentes géneros. Además, tiene interés en crear sus propios \\nvideojuegos en un futuro.  \\nDeportes  \\nEnrique no era un gran aficionado a los deportes, sin embargo, eso no evitó que participara en \\nalgunos juegos  y se divirtiera con sus amigos compitiendo en algún deporte.  \\nClases de natación. En su infancia, ingresó a un club que ofrecía clases de natación, donde \\npracticaba durante las vacaciones de verano . Al inicio tenía miedo, pero después de algún tiempo \\nlogró superarlo, comenzó a gustarle la sensación de dejarse llevar por el agua y flotar.  \\nClub de tenis. En el año 2018 , Enrique se inscribió a un club de tenis, donde pasó unos cursos y \\nconoció a nuevos amigos que compartían sus gustos. Es un deporte que le gusta mucho hasta el \\ndía de hoy, le gusta ver partidos profesionales; pero más aún, disfruta jugarlo.', mimetype='text/plain', start_char_idx=2, end_char_idx=2006, text_template='{metadata_str}\\n\\n{content}', metadata_template='{key}: {value}', metadata_seperator='\\n'), score=0.8295835361866877), NodeWithScore(node=TextNode(id_='50b63cc6-6de2-4c2a-8fa0-ec80972df176', embedding=None, metadata={'page_label': '9', 'file_name': 'TrabajoFinal.pdf', 'file_path': 'c:\\\\Users\\\\enriq\\\\Documents\\\\MyDocuments\\\\University\\\\S8\\\\TopicosAI\\\\repos\\\\my-ai-topics-2-2024\\\\4.nlp\\\\4.4.rag\\\\data\\\\TrabajoFinal.pdf', 'file_type': 'application/pdf', 'file_size': 2862857, 'creation_date': '2024-10-10', 'last_modified_date': '2024-06-25'}, excluded_embed_metadata_keys=['file_name', 'file_type', 'file_size', 'creation_date', 'last_modified_date', 'last_accessed_date'], excluded_llm_metadata_keys=['file_name', 'file_type', 'file_size', 'creation_date', 'last_modified_date', 'last_accessed_date'], relationships={<NodeRelationship.SOURCE: '1'>: RelatedNodeInfo(node_id='e57af772-070e-4bb7-8f38-f67635ec3a41', node_type=<ObjectType.DOCUMENT: '4'>, metadata={'page_label': '9', 'file_name': 'TrabajoFinal.pdf', 'file_path': 'c:\\\\Users\\\\enriq\\\\Documents\\\\MyDocuments\\\\University\\\\S8\\\\TopicosAI\\\\repos\\\\my-ai-topics-2-2024\\\\4.nlp\\\\4.4.rag\\\\data\\\\TrabajoFinal.pdf', 'file_type': 'application/pdf', 'file_size': 2862857, 'creation_date': '2024-10-10', 'last_modified_date': '2024-06-25'}, hash='c203ad114e998f4361a24f6776160ec4953cc33875e003b80d3aa074c7d18ba2')}, text='8 \\n  \\n \\n \\n \\nVacaciones  \\nEn muchas oportunidades Enrique fue de vacaciones con su familia. Algunos de los que más se \\nrecuerda son a los siguientes lugares:  \\nCaquingora. Un pequeño pueblo ubicado en la provincia Pacajes del departamento de La Paz y \\nes el lugar de nacimiento de su papá. Toda la familia viajaba aproximadamente cada año, para \\nvisitar la plaza principal y su hermosa iglesia, donde había una gran feria durante el feriado de \\nCorpus Christi.  \\nSucre. En una ocasión fueron de paseo a la ciudad, donde pudieron disfrutar de sus deliciosos \\nplatos típicos y recorrer sus calles para conocer todas las maravillas del lugar. El Parque Cretácico \\nfue el principal destino, un lugar que Enrique ansiaba conocer porq ue le encantaban los \\ndinosaurios, así que fue una experiencia inolvidable.  \\nOlimpiadas Internacionales', mimetype='text/plain', start_char_idx=2, end_char_idx=834, text_template='{metadata_str}\\n\\n{content}', metadata_template='{key}: {value}', metadata_seperator='\\n'), score=0.8284092373350049)]\n"
     ]
    }
   ],
   "source": [
    "response = query(\"Cuales son los temas favoritos de Enrique?\")\n",
    "print(response.response)\n",
    "print(response.source_nodes)"
   ]
  }
 ],
 "metadata": {
  "kernelspec": {
   "display_name": ".venv",
   "language": "python",
   "name": "python3"
  },
  "language_info": {
   "codemirror_mode": {
    "name": "ipython",
    "version": 3
   },
   "file_extension": ".py",
   "mimetype": "text/x-python",
   "name": "python",
   "nbconvert_exporter": "python",
   "pygments_lexer": "ipython3",
   "version": "3.12.4"
  }
 },
 "nbformat": 4,
 "nbformat_minor": 2
}
