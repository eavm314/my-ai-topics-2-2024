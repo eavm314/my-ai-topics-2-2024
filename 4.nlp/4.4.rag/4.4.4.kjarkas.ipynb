{
 "cells": [
  {
   "cell_type": "code",
   "execution_count": 67,
   "metadata": {},
   "outputs": [],
   "source": [
    "import requests\n",
    "from bs4 import BeautifulSoup\n",
    "\n",
    "kjarkas_id = 8988\n",
    "\n",
    "\n",
    "def extract_lyrics_links(artist_url: str) -> list[str]:\n",
    "    response = requests.get(url=artist_url)\n",
    "    print(f\"Response from artist page: {response.status_code}\")\n",
    "    soup = BeautifulSoup(response.text, \"html.parser\")\n",
    "    links_ul = soup.find(\"ul\", class_=\"listado-letras\")\n",
    "    links = [a[\"href\"] for a in links_ul.find_all(\"a\")]\n",
    "    return links\n",
    "\n",
    "def extract_song_lyric(song_url: str) -> str:\n",
    "    response = requests.get(url=song_url)\n",
    "    response.encoding = \"utf-8\"\n",
    "    print(f\"Response from lyrics page: {response.status_code}\")\n",
    "    soup = BeautifulSoup(response.text, \"html.parser\")\n",
    "    song_title = soup.find(\"h1\").get_text()\n",
    "    print(f\"Title: {song_title}\")\n",
    "    header = soup.find(\"h2\", string=\"LETRA\")\n",
    "    if header is None:\n",
    "        header = soup.find(\"h2\", string=\"LETRA EN ESPAÑOL\")\n",
    "        \n",
    "    if header is None:\n",
    "        return \"\"\n",
    "\n",
    "    paragraphs = []\n",
    "\n",
    "    for p in header.find_all_next(\"p\"):\n",
    "        if p.find_parent(\"div\") is None:\n",
    "            continue\n",
    "        if p.find_parent(\"div\").get(\"id\") == \"letra\":\n",
    "            paragraphs.append(p.get_text(separator=\"\\n\"))\n",
    "\n",
    "    lyrics = \"\\n\".join(p for p in paragraphs)\n",
    "    return f\"Título: {song_title} \\n\\n {lyrics}\"\n",
    "\n",
    "def extract_artist_lyrics(artist: str, artist_id: int):\n",
    "    lyrics_url = f\"https://www.musica.com/letras.asp?letras={artist_id}&orden=alf\"\n",
    "    links = extract_lyrics_links(lyrics_url)\n",
    "    print(f\"found {len(links)} songs\")\n",
    "    artist_header = f\"{artist}\\n===\\n\"\n",
    "    lyrics = []\n",
    "    for link in links:\n",
    "        print(f\"extracting song from: {link}\")\n",
    "        lyrics.append(extract_song_lyric(link))\n",
    "    lyrics_str = \"\\n\\n===\\n\\n\".join(lyrics)\n",
    "    artist_str = artist_header + lyrics_str\n",
    "    with open(f\"{artist_id}_{artist}.txt\", \"w\", encoding=\"utf-8\") as file:\n",
    "        file.write(artist_str)\n",
    "    return artist_str"
   ]
  },
  {
   "cell_type": "code",
   "execution_count": null,
   "metadata": {},
   "outputs": [],
   "source": [
    "extract_artist_lyrics(\"Kjarkas\", kjarkas_id)"
   ]
  },
  {
   "cell_type": "code",
   "execution_count": 1,
   "metadata": {},
   "outputs": [
    {
     "data": {
      "text/plain": [
       "True"
      ]
     },
     "execution_count": 1,
     "metadata": {},
     "output_type": "execute_result"
    }
   ],
   "source": [
    "from dotenv import load_dotenv\n",
    "import openai\n",
    "import os\n",
    "from llama_index.core import (\n",
    "    VectorStoreIndex, \n",
    "    SimpleDirectoryReader, \n",
    "    StorageContext,\n",
    "    load_index_from_storage,\n",
    "    Document,\n",
    "    PromptTemplate\n",
    ")\n",
    "load_dotenv()"
   ]
  },
  {
   "cell_type": "code",
   "execution_count": 2,
   "metadata": {},
   "outputs": [],
   "source": [
    "def get_artist_documents(filename: str) -> list[Document]:\n",
    "    with open(filename) as file:\n",
    "        data = file.read()\n",
    "    songs = data.split(\"===\")\n",
    "    artist = songs.pop(0).strip()\n",
    "    \n",
    "    documents = [\n",
    "        Document(\n",
    "            text=song,\n",
    "            metadata={\n",
    "                \"category\":\"music\",\n",
    "                \"artist\": artist,\n",
    "            }\n",
    "        )\n",
    "        for song in songs\n",
    "    ]    \n",
    "    return documents\n",
    "    "
   ]
  },
  {
   "cell_type": "code",
   "execution_count": 3,
   "metadata": {},
   "outputs": [],
   "source": [
    "from llama_index.embeddings.huggingface import HuggingFaceEmbedding\n",
    "from llama_index.core import Settings\n",
    "\n",
    "embed_model = HuggingFaceEmbedding(model_name=\"intfloat/multilingual-e5-base\")\n",
    "Settings.embed_model = embed_model"
   ]
  },
  {
   "cell_type": "code",
   "execution_count": 4,
   "metadata": {},
   "outputs": [],
   "source": [
    "PERSIST_DIR = \"lyrics_store2\"\n",
    "\n",
    "if not os.path.exists(PERSIST_DIR):\n",
    "    documents = get_artist_documents(\"8988_Kjarkas.txt\")\n",
    "    index = VectorStoreIndex.from_documents(documents, show_progress=True)\n",
    "    index.storage_context.persist(persist_dir=PERSIST_DIR)\n",
    "else:\n",
    "    storage_context = StorageContext.from_defaults(persist_dir=PERSIST_DIR) \n",
    "    index = load_index_from_storage(storage_context)"
   ]
  },
  {
   "cell_type": "code",
   "execution_count": 5,
   "metadata": {},
   "outputs": [],
   "source": [
    "query_engine = index.as_query_engine(verbose=True)"
   ]
  },
  {
   "cell_type": "code",
   "execution_count": 8,
   "metadata": {},
   "outputs": [],
   "source": [
    "qa_template_str = \"\"\"\n",
    "    You are an expert in Bolivian Folk music, your task is to guide and teach the user \n",
    "    about your field. Answer the user queries only with supported data in your context.\n",
    "    Your context may contain complete lyrics or parts of them in different languages, but\n",
    "    your answer will always be in Spanish. \n",
    "\n",
    "    Context information is below.\n",
    "    ---------------------\n",
    "    {context_str}\n",
    "    ---------------------\n",
    "    Given the context information and not prior knowledge, \n",
    "    answer the query with detailed source information, include direct quotes and use bullet lists in your \n",
    "    answers, in one of the bullets detail the tone/sentiment of the song.\n",
    "    Query: {query_str}\n",
    "    Answer: \n",
    "\"\"\"\n",
    "qa_template = PromptTemplate(qa_template_str)"
   ]
  },
  {
   "cell_type": "code",
   "execution_count": 9,
   "metadata": {},
   "outputs": [],
   "source": [
    "query_engine.update_prompts(\n",
    "    {\"response_synthesizer:text_qa_template\": qa_template}\n",
    ")"
   ]
  },
  {
   "cell_type": "code",
   "execution_count": 12,
   "metadata": {},
   "outputs": [],
   "source": [
    "response = query_engine.query(\"cuales canciones de los Kjarkas hablan de abandono?\")"
   ]
  },
  {
   "cell_type": "code",
   "execution_count": 13,
   "metadata": {},
   "outputs": [
    {
     "name": "stdout",
     "output_type": "stream",
     "text": [
      "- La canción \"Llorando se fue\" de Kjarkas habla de abandono, donde se menciona que la persona se fue llorando y dejó solo al protagonista con dolor.\n",
      "  - Fragmento de la letra: \"Llorando se fue y me dejo solo y sin su amor\"\n",
      "  - Tono/sentimiento de la canción: Melancólico y nostálgico, con una sensación de pérdida y tristeza.\n",
      "\n",
      "- Otra canción de Kjarkas que habla de abandono es \"El adios\", donde se despide de su amor y reconoce que puede haber causado dolor.\n",
      "  - Fragmento de la letra: \"adios sigo mi camino recuerdame con cariño\"\n",
      "  - Tono/sentimiento de la canción: Melancólico y reflexivo, con un tono de despedida y perdón.\n"
     ]
    }
   ],
   "source": [
    "print(response)"
   ]
  },
  {
   "cell_type": "code",
   "execution_count": null,
   "metadata": {},
   "outputs": [],
   "source": [
    "response.source_nodes"
   ]
  },
  {
   "cell_type": "code",
   "execution_count": 14,
   "metadata": {},
   "outputs": [],
   "source": [
    "chat_engine = index.as_chat_engine(verbose=True)"
   ]
  },
  {
   "cell_type": "code",
   "execution_count": 15,
   "metadata": {},
   "outputs": [
    {
     "name": "stdout",
     "output_type": "stream",
     "text": [
      "Added user message to memory: que canciones de los kjarkas hablan de abandono?\n",
      "=== Calling Function ===\n",
      "Calling function: query_engine_tool with args: {\"input\":\"canciones de los kjarkas sobre abandono\"}\n",
      "Got output: The songs by Kjarkas that touch on the theme of abandonment are \"Al partir\" and \"Llorando se fue.\"\n",
      "========================\n",
      "\n"
     ]
    }
   ],
   "source": [
    "response = chat_engine.chat(\"que canciones de los kjarkas hablan de abandono?\")"
   ]
  },
  {
   "cell_type": "code",
   "execution_count": 16,
   "metadata": {},
   "outputs": [
    {
     "name": "stdout",
     "output_type": "stream",
     "text": [
      "Las canciones de Los Kjarkas que hablan sobre abandono son \"Al partir\" y \"Llorando se fue\".\n"
     ]
    }
   ],
   "source": [
    "print(response)"
   ]
  },
  {
   "cell_type": "code",
   "execution_count": 17,
   "metadata": {},
   "outputs": [
    {
     "name": "stdout",
     "output_type": "stream",
     "text": [
      "Added user message to memory: y cuales hablan de la naturaleza?\n",
      "=== Calling Function ===\n",
      "Calling function: query_engine_tool with args: {\"input\":\"canciones de los kjarkas sobre naturaleza\"}\n",
      "Got output: The songs by Kjarkas mentioned in the context reflect themes related to nature, specifically mountains, villages, and valleys. The lyrics describe elements like black braids, brown skin of mountains, and lost villages, portraying a connection to the natural world.\n",
      "========================\n",
      "\n",
      "Las canciones de Los Kjarkas que hablan sobre la naturaleza incluyen temas relacionados con montañas, pueblos y valles. Las letras describen elementos como trenzas negras, piel marrón de las montañas y pueblos perdidos, mostrando una conexión con el mundo natural.\n"
     ]
    }
   ],
   "source": [
    "print(chat_engine.chat(\"y cuales hablan de la naturaleza?\"))"
   ]
  }
 ],
 "metadata": {
  "kernelspec": {
   "display_name": ".venv",
   "language": "python",
   "name": "python3"
  },
  "language_info": {
   "codemirror_mode": {
    "name": "ipython",
    "version": 3
   },
   "file_extension": ".py",
   "mimetype": "text/x-python",
   "name": "python",
   "nbconvert_exporter": "python",
   "pygments_lexer": "ipython3",
   "version": "3.11.9"
  }
 },
 "nbformat": 4,
 "nbformat_minor": 2
}
