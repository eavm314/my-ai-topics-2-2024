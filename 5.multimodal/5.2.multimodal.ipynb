{
 "cells": [
  {
   "cell_type": "code",
   "execution_count": 7,
   "metadata": {},
   "outputs": [],
   "source": [
    "import random\n",
    "import httpx\n",
    "from ollama import Client"
   ]
  },
  {
   "cell_type": "code",
   "execution_count": 8,
   "metadata": {},
   "outputs": [
    {
     "name": "stdout",
     "output_type": "stream",
     "text": [
      "{'month': '3', 'num': 2276, 'link': 'https://twitter.com/kakape/status/1235319133585248259', 'year': '2020', 'news': '', 'safe_title': 'Self-Isolate', 'transcript': '', 'alt': 'Turns out I\\'ve been \"practicing social distancing\" for years without even realizing it was a thing!', 'img': 'https://imgs.xkcd.com/comics/self_isolate.png', 'title': 'Self-Isolate', 'day': '4'}\n"
     ]
    }
   ],
   "source": [
    "num = 2276\n",
    "comic = httpx.get(f\"https://xkcd.com/{num}/info.0.json\")\n",
    "print(comic.json())"
   ]
  },
  {
   "cell_type": "code",
   "execution_count": 9,
   "metadata": {},
   "outputs": [
    {
     "name": "stdout",
     "output_type": "stream",
     "text": [
      "200\n"
     ]
    }
   ],
   "source": [
    "raw = httpx.get(comic.json().get(\"img\"))\n",
    "print(raw.status_code)"
   ]
  },
  {
   "cell_type": "code",
   "execution_count": 10,
   "metadata": {},
   "outputs": [],
   "source": [
    "client = Client(host=\"https://workstation.tail5ac87b.ts.net\")"
   ]
  },
  {
   "cell_type": "code",
   "execution_count": 13,
   "metadata": {},
   "outputs": [
    {
     "name": "stdout",
     "output_type": "stream",
     "text": [
      "{'model': 'llava-llama3', 'created_at': '2024-10-17T12:52:35.016001947Z', 'response': 'This image is a three-panel comic strip, humorously addressing the topic of self-isolation during the COVID-19 pandemic. The comic strip features two characters: one on the left who represents an \"expert\", and the other on the right representing an \"uninformed person\". Both characters are depicted as sitting in chairs.\\n\\nIn the first panel, the expert character is saying, \"Experts are saying people may need to \\'self-isolate\\' to combat the virus.\" The second panel shows the uninformed character responding with, \"I don\\'t think that\\'s... quite make plans and latch how fast I cancel!\" The final third panel has the expert replying, \"Oh, you\\'ve been practicing for this moment my whole life.\"\\n\\nThroughout the comic strip, there are two speech bubbles. One is attached to the expert character in the first panel, and the other is attached to the uninformed person\\'s responses in both the second and third panels.\\n\\nThe comic strip humorously highlights the difference between an informed individual who understands the importance of self-isolation and a less-informed individual who may not fully grasp the situation. The expert character seems to be patiently explaining the necessity of self-isolation, while the uninformed person appears to be more concerned about social gatherings and plans being canceled due to the pandemic. The third panel suggests that the uninformed character has been practicing for this moment his whole life, implying a lack of preparation or understanding of the situation.', 'done': True, 'done_reason': 'stop', 'context': [128006, 882, 128007, 271, 58, 1931, 12, 15, 60, 198, 198, 95444, 420, 15526, 20303, 128009, 128006, 78191, 128007, 198, 198, 2028, 2217, 374, 264, 2380, 12, 7581, 20303, 13619, 11, 28485, 7162, 28118, 279, 8712, 315, 659, 12, 285, 36062, 2391, 279, 20562, 12, 777, 28522, 13, 578, 20303, 13619, 4519, 1403, 5885, 25, 832, 389, 279, 2163, 889, 11105, 459, 220, 1, 74987, 498, 323, 279, 1023, 389, 279, 1314, 14393, 459, 220, 1, 359, 258, 10365, 1732, 3343, 11995, 5885, 527, 44894, 439, 11961, 304, 26993, 13, 198, 198, 644, 279, 1176, 7090, 11, 279, 6335, 3752, 374, 5605, 11, 220, 1, 87241, 527, 5605, 1274, 1253, 1205, 311, 220, 6, 726, 12, 285, 34166, 6, 311, 12896, 279, 17188, 1210, 578, 2132, 7090, 5039, 279, 71113, 10365, 3752, 30438, 449, 11, 220, 1, 40, 1541, 6, 83, 1781, 430, 6, 82, 1131, 5115, 1304, 6787, 323, 58026, 1268, 5043, 358, 9299, 9135, 578, 1620, 4948, 7090, 706, 279, 6335, 2109, 6852, 11, 220, 1, 12174, 11, 499, 6, 588, 1027, 36666, 369, 420, 4545, 856, 4459, 2324, 1210, 198, 198, 60105, 279, 20303, 13619, 11, 1070, 527, 1403, 8982, 44783, 13, 3861, 374, 12673, 311, 279, 6335, 3752, 304, 279, 1176, 7090, 11, 323, 279, 1023, 374, 12673, 311, 279, 71113, 10365, 1732, 6, 82, 14847, 304, 2225, 279, 2132, 323, 4948, 21988, 13, 198, 198, 791, 20303, 13619, 28485, 7162, 22020, 279, 6811, 1990, 459, 16369, 3927, 889, 31869, 279, 12939, 315, 659, 12, 285, 36062, 323, 264, 2753, 12, 258, 10365, 3927, 889, 1253, 539, 7373, 34477, 279, 6671, 13, 578, 6335, 3752, 5084, 311, 387, 79261, 26073, 279, 32961, 315, 659, 12, 285, 36062, 11, 1418, 279, 71113, 10365, 1732, 8111, 311, 387, 810, 11920, 922, 3674, 66237, 323, 6787, 1694, 34546, 4245, 311, 279, 28522, 13, 578, 4948, 7090, 13533, 430, 279, 71113, 10365, 3752, 706, 1027, 36666, 369, 420, 4545, 813, 4459, 2324, 11, 73967, 264, 6996, 315, 18459, 477, 8830, 315, 279, 6671, 13], 'total_duration': 3240071299, 'load_duration': 222400195, 'prompt_eval_duration': 201436000, 'eval_count': 296, 'eval_duration': 2772460000}\n"
     ]
    }
   ],
   "source": [
    "response = client.generate(\n",
    "    model=\"llava-llama3\", \n",
    "    prompt=\"explain this funny comic\",\n",
    "    images=[\n",
    "        raw.content\n",
    "    ]\n",
    "    )\n",
    "print(response)"
   ]
  },
  {
   "cell_type": "code",
   "execution_count": 14,
   "metadata": {},
   "outputs": [
    {
     "data": {
      "text/plain": [
       "'This image is a three-panel comic strip, humorously addressing the topic of self-isolation during the COVID-19 pandemic. The comic strip features two characters: one on the left who represents an \"expert\", and the other on the right representing an \"uninformed person\". Both characters are depicted as sitting in chairs.\\n\\nIn the first panel, the expert character is saying, \"Experts are saying people may need to \\'self-isolate\\' to combat the virus.\" The second panel shows the uninformed character responding with, \"I don\\'t think that\\'s... quite make plans and latch how fast I cancel!\" The final third panel has the expert replying, \"Oh, you\\'ve been practicing for this moment my whole life.\"\\n\\nThroughout the comic strip, there are two speech bubbles. One is attached to the expert character in the first panel, and the other is attached to the uninformed person\\'s responses in both the second and third panels.\\n\\nThe comic strip humorously highlights the difference between an informed individual who understands the importance of self-isolation and a less-informed individual who may not fully grasp the situation. The expert character seems to be patiently explaining the necessity of self-isolation, while the uninformed person appears to be more concerned about social gatherings and plans being canceled due to the pandemic. The third panel suggests that the uninformed character has been practicing for this moment his whole life, implying a lack of preparation or understanding of the situation.'"
      ]
     },
     "execution_count": 14,
     "metadata": {},
     "output_type": "execute_result"
    }
   ],
   "source": [
    "response[\"response\"]"
   ]
  },
  {
   "cell_type": "code",
   "execution_count": null,
   "metadata": {},
   "outputs": [],
   "source": []
  }
 ],
 "metadata": {
  "kernelspec": {
   "display_name": ".venv",
   "language": "python",
   "name": "python3"
  },
  "language_info": {
   "codemirror_mode": {
    "name": "ipython",
    "version": 3
   },
   "file_extension": ".py",
   "mimetype": "text/x-python",
   "name": "python",
   "nbconvert_exporter": "python",
   "pygments_lexer": "ipython3",
   "version": "3.12.4"
  }
 },
 "nbformat": 4,
 "nbformat_minor": 2
}
