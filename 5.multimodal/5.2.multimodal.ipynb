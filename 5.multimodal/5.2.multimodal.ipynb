{
 "cells": [
  {
   "cell_type": "code",
   "execution_count": 1,
   "metadata": {},
   "outputs": [],
   "source": [
    "import random\n",
    "import httpx\n",
    "from ollama import Client"
   ]
  },
  {
   "cell_type": "code",
   "execution_count": 2,
   "metadata": {},
   "outputs": [
    {
     "name": "stdout",
     "output_type": "stream",
     "text": [
      "{'month': '12', 'num': 523, 'link': '', 'year': '2008', 'news': '', 'safe_title': 'Decline', 'transcript': '[[A man is pointing at a line graph at a specific point where it slopes down. The Y Axis shows that as Y increases, Love increases.]]\\nMan: \"Our relationship entered its decline at this point.\"\\nWoman[[Outside of panel]]: \"That\\'s when you started graphing everything.\"\\nMan: \"Coincidence!\"\\n{{title text: \\'There is also a spike on the Fourier transformation at the one month mark where--\\'  \\'You want to stop talking right now.\\'}}', 'alt': \"'There's also a spike on the Fourier transform at the one-month mark where --' 'You want to stop talking right now.'\", 'img': 'https://imgs.xkcd.com/comics/decline.png', 'title': 'Decline', 'day': '29'}\n"
     ]
    }
   ],
   "source": [
    "num = 523\n",
    "comic = httpx.get(f\"https://xkcd.com/{num}/info.0.json\")\n",
    "print(comic.json())"
   ]
  },
  {
   "cell_type": "code",
   "execution_count": 3,
   "metadata": {},
   "outputs": [
    {
     "name": "stdout",
     "output_type": "stream",
     "text": [
      "200\n"
     ]
    }
   ],
   "source": [
    "raw = httpx.get(comic.json().get(\"img\"))\n",
    "print(raw.status_code)"
   ]
  },
  {
   "cell_type": "code",
   "execution_count": 4,
   "metadata": {},
   "outputs": [],
   "source": [
    "client = Client(host=\"https://workstation.tail5ac87b.ts.net\")"
   ]
  },
  {
   "cell_type": "code",
   "execution_count": 8,
   "metadata": {},
   "outputs": [
    {
     "name": "stdout",
     "output_type": "stream",
     "text": [
      "{'model': 'llava-llama3', 'created_at': '2024-10-17T12:42:51.524995676Z', 'response': 'El comic explica que nuestro relación entera se vio comprometida a partir del momento en el que nos enteramos de que su partner había comenzado una línea de comunicación con otra persona. El comic sugiere que ese momento es el punto en el que comienzan las dudas y el fin del romance. En resumen, el comic nos recuerda que la infidelidad puede ser un evento trágico para cualquier relación.', 'done': True, 'done_reason': 'stop', 'context': [128006, 882, 128007, 271, 58, 1931, 12, 15, 60, 198, 198, 4683, 15677, 10566, 20303, 11, 665, 70988, 128009, 128006, 78191, 128007, 198, 198, 6719, 20303, 1367, 15677, 1744, 43562, 69297, 1218, 2473, 513, 348, 822, 26600, 295, 4849, 264, 31632, 1624, 31221, 665, 658, 1744, 12155, 3810, 10808, 409, 1744, 924, 8427, 55138, 75209, 2172, 5203, 56262, 409, 46915, 5840, 390, 46495, 29055, 13, 4072, 20303, 31705, 19380, 1744, 42918, 31221, 1560, 658, 42614, 665, 658, 1744, 470, 3675, 50226, 5252, 294, 54841, 379, 658, 1913, 1624, 30363, 13, 2998, 594, 28999, 11, 658, 20303, 12155, 1421, 8977, 3315, 1744, 1208, 4225, 27900, 5969, 21329, 1446, 653, 45542, 490, 28793, 4042, 3429, 47009, 69297, 13], 'total_duration': 1454678651, 'load_duration': 276655932, 'prompt_eval_duration': 219710000, 'eval_count': 93, 'eval_duration': 833459000}\n"
     ]
    }
   ],
   "source": [
    "response = client.generate(\n",
    "    model=\"llava-llama3\", \n",
    "    prompt=\"explica este comic, en español\",\n",
    "    images=[\n",
    "        raw.content\n",
    "    ]\n",
    "    )\n",
    "print(response)"
   ]
  },
  {
   "cell_type": "code",
   "execution_count": 9,
   "metadata": {},
   "outputs": [
    {
     "data": {
      "text/plain": [
       "'El comic explica que nuestro relación entera se vio comprometida a partir del momento en el que nos enteramos de que su partner había comenzado una línea de comunicación con otra persona. El comic sugiere que ese momento es el punto en el que comienzan las dudas y el fin del romance. En resumen, el comic nos recuerda que la infidelidad puede ser un evento trágico para cualquier relación.'"
      ]
     },
     "execution_count": 9,
     "metadata": {},
     "output_type": "execute_result"
    }
   ],
   "source": [
    "response[\"response\"]"
   ]
  },
  {
   "cell_type": "code",
   "execution_count": null,
   "metadata": {},
   "outputs": [],
   "source": []
  }
 ],
 "metadata": {
  "kernelspec": {
   "display_name": ".venv",
   "language": "python",
   "name": "python3"
  },
  "language_info": {
   "codemirror_mode": {
    "name": "ipython",
    "version": 3
   },
   "file_extension": ".py",
   "mimetype": "text/x-python",
   "name": "python",
   "nbconvert_exporter": "python",
   "pygments_lexer": "ipython3",
   "version": "3.11.9"
  }
 },
 "nbformat": 4,
 "nbformat_minor": 2
}
