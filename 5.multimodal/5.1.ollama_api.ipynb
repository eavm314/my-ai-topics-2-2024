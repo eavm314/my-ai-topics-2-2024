{
 "cells": [
  {
   "cell_type": "code",
   "execution_count": 5,
   "metadata": {},
   "outputs": [],
   "source": [
    "import ollama\n",
    "from ollama import Client\n",
    "\n",
    "client = Client(host=\"https://workstation.tail5ac87b.ts.net\")"
   ]
  },
  {
   "cell_type": "code",
   "execution_count": 6,
   "metadata": {},
   "outputs": [],
   "source": [
    "response = client.chat(\n",
    "    model=\"llama3.2\",\n",
    "    messages=[\n",
    "        {\n",
    "            \"role\": \"user\",\n",
    "            \"content\": \"Por qué el cielo es azul?\"\n",
    "        }\n",
    "    ]\n",
    "    )"
   ]
  },
  {
   "cell_type": "code",
   "execution_count": 8,
   "metadata": {},
   "outputs": [
    {
     "data": {
      "text/plain": [
       "{'role': 'assistant',\n",
       " 'content': '**El misterio del cielo azul**\\n\\nLa pregunta de por qué el cielo parece azul es una de las más antiguas y fascinantes de la humanidad. Aunque la respuesta puede parecer sencilla, esconde un mundo de complejidades físicas y químicas.\\n\\n**La luz solar y la atmósfera**\\n\\nLa clave para entender por qué el cielo es azul se encuentra en la forma en que interactúa la luz solar con la atmósfera terrestre. Cuando la luz del sol llega a la Tierra, pasa a través de la atmósfera, que está compuesta principalmente por nitrógeno y oxígeno.\\n\\n**La dispersión de la luz**\\n\\nLa luz solar se compone de diferentes longitudes de onda, desde las más cortas (azules) hasta las más largas (rojas). Cuando esta luz pasa a través del aire, las ondas azules se dispersan (se separan) en todas direcciones debido a su mayor energía. Esto es lo que permite ver el cielo azul.\\n\\n**La teoría de la dispersión de Tyndall**\\n\\nEn 1860, el físico británico John Tyndall propuso una explicación para la disposición del color del cielo. Según su teoría, la luz se dispersa porque los pequeños partículas en el aire, como las moléculas de agua y dióxido de carbono, interactúan con las ondas de luz y las desvían.\\n\\n**La atmósfera y el cielo azul**\\n\\nEn resumen, la combinación de la luz solar, la atmósfera terrestre y la dispersión de la luz es lo que da lugar a nuestro colorado cielo azul. La presencia de partículas en el aire ayuda a separar las diferentes longitudes de onda de la luz, lo que permite nuestra vista percibir la luz azul.\\n\\n**Conclusión**\\n\\nLa razón por la cual el cielo es azul no es un misterio más que una compleja interacción de la física y la química. La luz solar, la atmósfera terrestre y la dispersión de la luz se combinan para crear ese color tan característico del cielo.'}"
      ]
     },
     "execution_count": 8,
     "metadata": {},
     "output_type": "execute_result"
    }
   ],
   "source": [
    "response[\"message\"]"
   ]
  },
  {
   "cell_type": "code",
   "execution_count": null,
   "metadata": {},
   "outputs": [],
   "source": []
  }
 ],
 "metadata": {
  "kernelspec": {
   "display_name": ".venv",
   "language": "python",
   "name": "python3"
  },
  "language_info": {
   "codemirror_mode": {
    "name": "ipython",
    "version": 3
   },
   "file_extension": ".py",
   "mimetype": "text/x-python",
   "name": "python",
   "nbconvert_exporter": "python",
   "pygments_lexer": "ipython3",
   "version": "3.11.9"
  }
 },
 "nbformat": 4,
 "nbformat_minor": 2
}
